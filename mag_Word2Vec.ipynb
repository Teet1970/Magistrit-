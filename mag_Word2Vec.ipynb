{
 "cells": [
  {
   "cell_type": "code",
   "execution_count": 1,
   "metadata": {},
   "outputs": [
    {
     "name": "stderr",
     "output_type": "stream",
     "text": [
      "C:\\Users\\Veronika\\Anaconda3\\envs\\minu_keskkond\\lib\\site-packages\\gensim\\utils.py:1197: UserWarning: detected Windows; aliasing chunkize to chunkize_serial\n",
      "  warnings.warn(\"detected Windows; aliasing chunkize to chunkize_serial\")\n"
     ]
    }
   ],
   "source": [
    "from gensim.models import Word2Vec\n",
    "import gensim.models.keyedvectors as word2vec"
   ]
  },
  {
   "cell_type": "code",
   "execution_count": 2,
   "metadata": {},
   "outputs": [],
   "source": [
    "model = word2vec.KeyedVectors.load_word2vec_format('lemmas.sg.s200.w2v.txt', binary=False )\n",
    "#kasutame mudeli loomiseks eelnevalt treenitud andmeid"
   ]
  },
  {
   "cell_type": "code",
   "execution_count": 13,
   "metadata": {},
   "outputs": [],
   "source": [
    "trad_corpus = ['kuulekas','sõnakuulelik','aus','viisakas','töökas','viisakas',\n",
    "               'hoolas','püüdlik','usin','austav','sõnakuulekas','hoolas',\n",
    "               'edasipüüdlik','kuulekus','sõnakuulelikkus','austus', 'viisakus',\n",
    "               'töökus','püüdlikkus','korralikkus','usinus','distsipliin',\n",
    "               'enesedistsipliin','karistus', 'austama','vastutustunne',\n",
    "               'kohusetunne','kohusetundlik'\n",
    "               ]"
   ]
  },
  {
   "cell_type": "code",
   "execution_count": 14,
   "metadata": {},
   "outputs": [],
   "source": [
    "auton_corpus =['enesekindlus','eneseusaldus','loovus','uudishimulikkus',\n",
    "               'iseseisev','ettevõtlikkus','eneseteadvus','eesmärgikindlus',\n",
    "               'visadus','järjekindlus','sihikindlus','sitkus',\n",
    "               'loomingulisus','enesekindel','loov','uudishimulik',\n",
    "               'iseseisev','ettevõtlik','eneseteadlik','sihiteadlik','visa',\n",
    "               'järjekindel','sihikindel','sitke','teotahteline','tegus',\n",
    "               'algatusvõimeline','järjekindel','loominguline','ambitsioonikas'\n",
    "          ]"
   ]
  },
  {
   "cell_type": "code",
   "execution_count": 15,
   "metadata": {
    "scrolled": true
   },
   "outputs": [
    {
     "name": "stderr",
     "output_type": "stream",
     "text": [
      "C:\\Users\\Veronika\\Anaconda3\\envs\\minu_keskkond\\lib\\site-packages\\ipykernel_launcher.py:2: DeprecationWarning: Call to deprecated `wv` (Attribute will be removed in 4.0.0, use self instead).\n",
      "  \n"
     ]
    },
    {
     "data": {
      "text/plain": [
       "[('jonnakus', 0.7641672492027283),\n",
       " ('auahnus', 0.7402713298797607),\n",
       " ('riskivalmidus', 0.7321593761444092),\n",
       " ('ambitsioon', 0.7202242612838745),\n",
       " ('toimekus', 0.710821270942688),\n",
       " ('eesmärgikindlus', 0.7022439241409302),\n",
       " ('enesekriitilisus', 0.7011600136756897),\n",
       " ('saavutusvajadus', 0.700654149055481),\n",
       " ('võimuahnus', 0.6974954605102539),\n",
       " ('ausameelsus', 0.6933058500289917)]"
      ]
     },
     "execution_count": 15,
     "metadata": {},
     "output_type": "execute_result"
    }
   ],
   "source": [
    "w1 ='ambitsioonikus'#testime ühe sõnaga, kas sünonüümide otsimine töötab\n",
    "model.wv.most_similar(positive =w1)"
   ]
  },
  {
   "cell_type": "code",
   "execution_count": 16,
   "metadata": {},
   "outputs": [
    {
     "name": "stderr",
     "output_type": "stream",
     "text": [
      "C:\\Users\\Veronika\\Anaconda3\\envs\\minu_keskkond\\lib\\site-packages\\ipykernel_launcher.py:6: DeprecationWarning: Call to deprecated `wv` (Attribute will be removed in 4.0.0, use self instead).\n",
      "  \n"
     ]
    }
   ],
   "source": [
    "from collections import Counter #teeme sõnastiku, kuhu paneme 15 algoritmi \n",
    "from collections import defaultdict #arvates kõige sarnasemat traditsiooniliste\n",
    "synonyymid = defaultdict(list) #kasvastusväärtuse sünonüümi\n",
    "for i in range(len(trad_corpus)):\n",
    "    w1 =trad_corpus[i]\n",
    "    sarnased_sonad = model.wv.most_similar(positive =w1, topn=15)\n",
    "    synonyymid[w1].append(sarnased_sonad)\n",
    "    "
   ]
  },
  {
   "cell_type": "code",
   "execution_count": 17,
   "metadata": {},
   "outputs": [
    {
     "name": "stdout",
     "output_type": "stream",
     "text": [
      "püüdlik [[('sõbramehelik', 0.6497510075569153), ('kohusetruu', 0.6494878530502319), ('püüdlikkus', 0.6378885507583618), ('peenetundeline', 0.629169762134552), ('taktitundeline', 0.6259126663208008), ('hästikasvatatud', 0.625137209892273), ('sõrmejooks', 0.616195559501648), ('suhtlemisvalmis', 0.6129977703094482), ('sõnaosav', 0.6124803423881531), ('püüdlikult', 0.6123614311218262), ('pedantne', 0.6067851781845093), ('iseteadev', 0.6062432527542114), ('bravuurne', 0.6048990488052368), ('kohmakavõitu', 0.6033771634101868), ('häälekool', 0.601421058177948)]]\n",
      "aus [[('kristalselt', 0.6445894241333008), ('olegem', 0.5885810256004333), ('aus|ausa', 0.5818332433700562), ('põhimõttekindel', 0.5787205696105957), ('õiglane', 0.5585855841636658), ('ebaaus', 0.5556764602661133), ('seadusekuulekas', 0.5494639873504639), ('aateline', 0.5417685508728027), ('sõnapidaja', 0.5408145189285278), ('ausgang', 0.5397415161132812), ('tasakaalukas', 0.5372112393379211), ('sprinteritüüp', 0.5367422699928284), ('omakasupüüdmatu', 0.5307495594024658), ('kohusetundlik', 0.5272380113601685), ('ausameelne', 0.5254946947097778)]]\n",
      "austav [[('väärikas', 0.6138221025466919), ('austusväärne', 0.6052600145339966), ('austama', 0.598743736743927), ('sekitori', 0.5935372114181519), ('hariduslembene', 0.5800731182098389), ('lugupidamisavaldus', 0.5712968707084656), ('väärtustav', 0.5650578141212463), ('hooliv', 0.5620139837265015), ('väärikaim', 0.5612578392028809), ('ühtehoidev', 0.5563068389892578), ('respekteerima', 0.5533256530761719), ('teotama|teotatud', 0.5520631074905396), ('eelarvamustevaba', 0.551917552947998), ('väärikustunne', 0.5514494776725769), ('siiraim', 0.5506253838539124)]]\n",
      "vastutustunne [[('vastutusvõime', 0.7277135848999023), ('kohusetunne', 0.7205260992050171), ('hoolivus', 0.7029105424880981), ('empaatiavõime', 0.6857279539108276), ('kodanikutunne', 0.6855742931365967), ('tööarmastus', 0.6841424703598022), ('tegutsemistahe', 0.6815115809440613), ('saavutusvajadus', 0.6738498210906982), ('algatusvõime', 0.6724538207054138), ('kodanikujulgus', 0.6703416109085083), ('eneseaustus', 0.6702800393104553), ('edasipüüdlikkus', 0.6697667837142944), ('mõistvus', 0.6696627736091614), ('seaduskuulekus', 0.6688516139984131), ('riskivalmidus', 0.666912317276001)]]\n",
      "püüdlikkus [[('distsiplineeritus', 0.7053186893463135), ('innukus', 0.7045445442199707), ('taktitunne', 0.6994638442993164), ('energilisus', 0.6974444389343262), ('vaimuteravus', 0.6890432834625244), ('kompleksivabadus', 0.6861237287521362), ('enesekriitilisus', 0.6838010549545288), ('taibukus', 0.6799392700195312), ('kohusetundlikkus', 0.674898087978363), ('kadestamisväärt', 0.6725637912750244), ('ennastületav', 0.6712306141853333), ('seltskondlikkus', 0.6711747646331787), ('õlalepatsutus', 0.670323371887207), ('suhtlusoskus', 0.6696781516075134), ('eneseohverdamine', 0.6691380739212036)]]\n",
      "usin [[('innukas', 0.7128517031669617), ('agar', 0.6502867341041565), ('virk', 0.6354033350944519), ('hoolas', 0.633264422416687), ('tubli', 0.6179512739181519), ('töökas', 0.5962606072425842), ('laisk', 0.591995120048523), ('kohusetundlik', 0.5900125503540039), ('osav', 0.5809394717216492), ('tragi', 0.5771556496620178), ('ärgas', 0.5745543241500854), ('õpihimuline', 0.5729514360427856), ('hakkaja', 0.5605682134628296), ('kohusetruu', 0.5579227805137634), ('teadmistehimuline', 0.5566495060920715)]]\n",
      "viisakus [[('taktitunne', 0.7044748067855835), ('sõbralikkus', 0.6949946880340576), ('viisakas', 0.6912881135940552), ('ebaviisakus', 0.6909258365631104), ('viisakusavaldus', 0.6869944334030151), ('asjalikkus', 0.682761549949646), ('õlalepatsutamine', 0.6632224321365356), ('mõõdutunne', 0.6567986011505127), ('tagasihoidlikkus', 0.6464167833328247), ('kohusetruudus', 0.6460632085800171), ('ülbus', 0.6450605392456055), ('pealetükkivus', 0.642198383808136), ('viisakusreegel', 0.6418918967247009), ('korralikkus', 0.6399575471878052), ('üleolevus', 0.6386020183563232)]]\n",
      "kuulekus [[('kuuletumine', 0.7062277793884277), ('sõnakuulelikkus', 0.6999452114105225), ('ustavus', 0.6658298969268799), ('kaalutletud', 0.6526386737823486), ('distsiplineeritus', 0.6522367596626282), ('edasipüüdlikkus', 0.651256799697876), ('enesedistsipliin', 0.6490828990936279), ('omakasupüüdmatus', 0.6487671136856079), ('sõnapidamine', 0.6474747061729431), ('leplikkus', 0.6471347212791443), ('kannatlikkus', 0.6466672420501709), ('kokkuhoidlikkus', 0.6462134122848511), ('orjalik', 0.643648624420166), ('tööarmastus', 0.6411519050598145), ('üllameelsus', 0.6410434246063232)]]\n",
      "viisakas [[('viisakalt', 0.7442723512649536), ('taktitundeline', 0.7161489725112915), ('ebaviisakas', 0.711249828338623), ('sõbralik', 0.701214075088501), ('abivalmis', 0.6936547756195068), ('viisakus', 0.6912881135940552), ('kombekas', 0.6859779357910156), ('hästikasvatatud', 0.6818987131118774), ('üliviisakas', 0.6811736822128296), ('vastutulelik', 0.679328978061676), ('heatahtlik', 0.6769039630889893), ('külalislahke', 0.6731337308883667), ('suhtlemisvalmis', 0.6681176424026489), ('kõnetamine', 0.663841962814331), ('nipsakas', 0.6616983413696289)], [('viisakalt', 0.7442723512649536), ('taktitundeline', 0.7161489725112915), ('ebaviisakas', 0.711249828338623), ('sõbralik', 0.701214075088501), ('abivalmis', 0.6936547756195068), ('viisakus', 0.6912881135940552), ('kombekas', 0.6859779357910156), ('hästikasvatatud', 0.6818987131118774), ('üliviisakas', 0.6811736822128296), ('vastutulelik', 0.679328978061676), ('heatahtlik', 0.6769039630889893), ('külalislahke', 0.6731337308883667), ('suhtlemisvalmis', 0.6681176424026489), ('kõnetamine', 0.663841962814331), ('nipsakas', 0.6616983413696289)]]\n",
      "edasipüüdlik [[('edasipürgiv', 0.7704662084579468), ('algatusvõimeline', 0.7451512813568115), ('õpihimuline', 0.7445087432861328), ('arenemisvõimeline', 0.7293521761894226), ('õppimishimuline', 0.7266215085983276), ('töökas', 0.7229406237602234), ('õpivõimeline', 0.7226478457450867), ('huumorimeelne', 0.7096978425979614), ('õppimisvõimeline', 0.7019857168197632), ('teadmishimuline', 0.694124698638916), ('teotahteline', 0.6928584575653076), ('empaatiavõimeline', 0.6914961338043213), ('kohanemisvõimeline', 0.6902192831039429), ('ühtehoidev', 0.6898407936096191), ('spordilembeline', 0.6839654445648193)]]\n",
      "sõnakuulelikkus [[('vagadus', 0.7808021306991577), ('alandlikkus', 0.7720836400985718), ('jumalakartlikkus', 0.7680478096008301), ('omakasupüüdmatus', 0.7617117166519165), ('ausameelsus', 0.7445931434631348), ('vääramatus', 0.7399569749832153), ('tõearmastus', 0.7397699356079102), ('inimarmastus', 0.7393651008605957), ('mõistuslikkus', 0.7368106842041016), ('sõnapidamine', 0.7328954339027405), ('kaastundlikkkus', 0.7315371036529541), ('enesetäiustamine', 0.7307925224304199), ('judeo-kristlik', 0.7294061183929443), ('kasinus', 0.7293184995651245), ('arglikkus', 0.7292078137397766)]]\n",
      "kohusetunne [[('tööarmastus', 0.7278768420219421), ('vastutustunne', 0.7205260992050171), ('edasipüüdlikkus', 0.7122420072555542), ('ausus', 0.6992236971855164), ('distsiplineeritus', 0.6979495286941528), ('kaalutletud', 0.6979236602783203), ('sõnapidamine', 0.6977274417877197), ('sirgeselgsus', 0.6950540542602539), ('ligimesearmastus', 0.6948000192642212), ('autunne', 0.694560706615448), ('kodanikutunne', 0.6927143335342407), ('enesedistsipliin', 0.6881526708602905), ('kohusetundlikkus', 0.6874376535415649), ('hoolivus', 0.6863104701042175), ('korraarmastus', 0.6859915852546692)]]\n",
      "austus [[('lugupidamine', 0.8393357992172241), ('respekt', 0.767546534538269), ('kaastunne', 0.68876051902771), ('austama', 0.6793136596679688), ('põlgus', 0.6779183149337769), ('imetlus', 0.6747370958328247), ('tänutunne', 0.6681352257728577), ('tänulikkus', 0.6587307453155518), ('autunne', 0.6544776558876038), ('hoolivus', 0.6457915306091309), ('suuremeelsus', 0.645142138004303), ('lugupidamatus', 0.6383349895477295), ('sõbralikkus', 0.6374493837356567), ('ustavus', 0.6357779502868652), ('heasoovlikkus', 0.6337703466415405)]]\n",
      "töökus [[('visadus', 0.7594723701477051), ('tööarmastus', 0.7563580274581909), ('korraarmastus', 0.7544043660163879), ('sihikindlus', 0.7486829161643982), ('arukus', 0.7457857728004456), ('töötahe', 0.7436591386795044), ('edasipüüdlikkus', 0.7316630482673645), ('ettevõtlikkus', 0.7224138379096985), ('taiplikkus', 0.7184315323829651), ('nutikus', 0.7090329527854919), ('andekus', 0.706456184387207), ('õppimistahe', 0.7062194347381592), ('teotahe', 0.7056779861450195), ('kohusetundlikkus', 0.7050371170043945), ('distsiplineeritus', 0.7040653228759766)]]\n",
      "enesedistsipliin [[('keskendumisoskus', 0.751067042350769), ('tööarmastus', 0.7418015599250793), ('kohusetundlikkus', 0.7340527176856995), ('tasakaalutunne', 0.7334736585617065), ('analüüsioskus', 0.733295202255249), ('edasipüüdlikkus', 0.7321115732192993), ('õppimistahe', 0.7299695611000061), ('eesmärgikindlus', 0.7282429933547974), ('distsiplineeritus', 0.7187750339508057), ('saavutusvajadus', 0.7182357907295227), ('distsipliinitunne', 0.7160664796829224), ('tahtekindlus', 0.7158417701721191), ('koostööoskus', 0.715190589427948), ('karastatus', 0.7135324478149414), ('enesekriitilisus', 0.7134902477264404)]]\n",
      "töökas [[('teotahteline', 0.7439746260643005), ('edasipüüdlik', 0.7229406237602234), ('kohusetundlik', 0.7146096229553223), ('algatusvõimeline', 0.7114162445068359), ('huumorimeelne', 0.7094416618347168), ('abivalmis', 0.7004644274711609), ('õpihimuline', 0.6974897980690002), ('ühtehoidev', 0.6917949318885803), ('õppimisvõimeline', 0.6916632652282715), ('virk', 0.6887400150299072), ('arenemisvõimeline', 0.6878300905227661), ('tubli', 0.6825687885284424), ('tragi', 0.6736176609992981), ('organiseerimisvõimeline', 0.6735935807228088), ('teokas', 0.6732980608940125)]]\n",
      "karistus [[('vabaduskaotuslik', 0.8051795959472656), ('vabadusekaotuslik', 0.8023071885108948), ('vanglakaristus', 0.7970307469367981), ('lisakaristus', 0.7902135848999023), ('kriminaalkaristus', 0.7816089391708374), ('maksimumkaristus', 0.7768316864967346), ('tingimisi', 0.7629210948944092), ('vangistus', 0.7579168081283569), ('vabaduskaotus', 0.7539740800857544), ('vabadusekaotus', 0.7510210871696472), ('liitkaristus', 0.7493486404418945), ('halduskaristus', 0.7455548048019409), ('karistusmäär', 0.7443521022796631), ('miinimumkaristus', 0.7424260377883911), ('põhikaristus', 0.735856294631958)]]\n",
      "kuulekas [[('sõnakuulelik', 0.7068156003952026), ('alandlik', 0.6815067529678345), ('hüpiknukk', 0.6673709154129028), ('karjerist', 0.6626930236816406), ('käsutäitja', 0.6591922044754028), ('käsualune', 0.6550984382629395), ('armastusväärne', 0.6511415243148804), ('ilmeksimatu', 0.6508662700653076), ('orjalik', 0.6495611071586609), ('marionett', 0.640876293182373), ('autokraatne', 0.6405495405197144), ('pugeja', 0.6376389265060425), ('ausameelne', 0.6361826062202454), ('truualamlik', 0.6319659948348999), ('arusaaja', 0.6301470994949341)]]\n",
      "kohusetundlik [[('kohusetruu', 0.7925417423248291), ('töökas', 0.7146096229553223), ('abivalmis', 0.7076695561408997), ('algatusvõimeline', 0.7058771848678589), ('organiseerimisvõimeline', 0.6942216753959656), ('arusaaja', 0.6883916258811951), ('analüüsivõimeline', 0.6805475950241089), ('tasakaalukas', 0.6754243969917297), ('erudeeritud', 0.6648102402687073), ('sõnapidaja', 0.6635271310806274), ('heasüdamlik', 0.6599568724632263), ('õppimisvõimeline', 0.6569956541061401), ('huumorimeelne', 0.6538357734680176), ('initsiatiivikas', 0.6537498235702515), ('taktitundeline', 0.6525434255599976)]]\n",
      "sõnakuulekas [[('suhtlusaldis', 0.7734159231185913), ('kommunaalpoliitik', 0.7682638168334961), ('kohanu', 0.7631105184555054), ('kavaldaja', 0.762275755405426), ('lehmakaupleja', 0.7578690648078918), ('ideaalnägemus', 0.7557239532470703), ('karjääriteadlik', 0.7556756734848022), ('hiireema', 0.7554233074188232), ('noorvanake', 0.7536060214042664), ('segadusseajavalt', 0.7534632682800293), ('ülereaktsioon', 0.7524000406265259), ('maffialugu', 0.7523528337478638), ('väljapressiv', 0.7513555288314819), ('ülilojaalne', 0.7511997222900391), ('liisupoiss', 0.7509673833847046)]]\n",
      "usinus [[('tublidus', 0.6737412214279175), ('visadus', 0.6684575080871582), ('püüdlikkus', 0.6638554930686951), ('kokkuhoidlikkus', 0.660423755645752), ('innukus', 0.6594304442405701), ('töökus', 0.6525747776031494), ('tööarmastus', 0.6512181162834167), ('südikus', 0.6509007215499878), ('tahtekindlus', 0.6508337259292603), ('ennastsalgavus', 0.6471834778785706), ('asjatundlikkus', 0.6463310718536377), ('asjalikkus', 0.6319539546966553), ('ohvrimeelsus', 0.6316007971763611), ('sihikindlus', 0.6279369592666626), ('kohusetundlikkus', 0.6277738809585571)]]\n",
      "distsipliin [[('enesedistsipliin', 0.6559917330741882), ('suhtlemiskultuur', 0.6417776942253113), ('kaalutletud', 0.6156864166259766), ('sisekord', 0.6121717691421509), ('kollegiaalsus', 0.609508752822876), ('käitumisnorm', 0.6085083484649658), ('isamaaarmastus', 0.6071429252624512), ('drill', 0.6049182415008545), ('õpetamisoskus', 0.6042132377624512), ('reglementeeritus', 0.6005752086639404), ('kaadrivalik', 0.5987383127212524), ('üldtehniline', 0.5983812808990479), ('liiklusviisakus', 0.5976375937461853), ('ainekeskne', 0.5942299365997314), ('sõnakuulelikkus', 0.5941848754882812)]]\n",
      "korralikkus [[('sirgjoonelisus', 0.71588534116745), ('ausameelsus', 0.6891394257545471), ('punktuaalsus', 0.6882179379463196), ('põhimõttekindlus', 0.6819390654563904), ('pedantsus', 0.6796120405197144), ('tõearmastus', 0.6784604787826538), ('kultuursus', 0.6705589294433594), ('riigitruudus', 0.6669732332229614), ('enesekriitilisus', 0.6658617258071899), ('ausus', 0.6645840406417847), ('rahvalähedus', 0.6638666391372681), ('kokkuhoidlikkus', 0.663480281829834), ('autunne', 0.6625081300735474), ('sümpaatsus', 0.6603291034698486), ('taktitunne', 0.6588988304138184)]]\n",
      "hoolas [[('hoolikas', 0.7320083975791931), ('usin', 0.633264422416687), ('tähelepanelik', 0.6207482218742371), ('hoolsam', 0.612977147102356), ('lohakas', 0.5923343300819397), ('kannatlik', 0.5919464826583862), ('hoolsalt', 0.5769989490509033), ('kohusetundlik', 0.5747084617614746), ('osav', 0.568515419960022), ('hoolikam', 0.5645886659622192), ('taibukas', 0.5627661943435669), ('perenaisekäsi', 0.5603042840957642), ('oskuslik', 0.5585124492645264), ('taiplik', 0.5580463409423828), ('pedantne', 0.5481049418449402)], [('hoolikas', 0.7320083975791931), ('usin', 0.633264422416687), ('tähelepanelik', 0.6207482218742371), ('hoolsam', 0.612977147102356), ('lohakas', 0.5923343300819397), ('kannatlik', 0.5919464826583862), ('hoolsalt', 0.5769989490509033), ('kohusetundlik', 0.5747084617614746), ('osav', 0.568515419960022), ('hoolikam', 0.5645886659622192), ('taibukas', 0.5627661943435669), ('perenaisekäsi', 0.5603042840957642), ('oskuslik', 0.5585124492645264), ('taiplik', 0.5580463409423828), ('pedantne', 0.5481049418449402)]]\n",
      "sõnakuulelik [[('kuulekas', 0.7068156003952026), ('armastusväärne', 0.7004033923149109), ('hästikasvatatud', 0.6987934112548828), ('ühtehoidev', 0.6910141110420227), ('vastutustundeline', 0.6752287745475769), ('perekonnaisa', 0.6730798482894897), ('meelekindel', 0.6715149283409119), ('arusaaja', 0.6714038848876953), ('kokkuhoidev', 0.6657869815826416), ('riskijulge', 0.6632633209228516), ('algatusvõimeline', 0.6622763276100159), ('hariduslembene', 0.6611478328704834), ('töökas', 0.660467803478241), ('empaatiavõimeline', 0.6597304344177246), ('kodulembene', 0.6590455770492554)]]\n",
      "austama [[('respekteerima', 0.7775347232818604), ('austamine', 0.7178914546966553), ('austus', 0.6793136596679688), ('austama|austanud', 0.6738407015800476), ('kulupea', 0.6601186394691467), ('tunnustama', 0.6478004455566406), ('austavalt', 0.6212829351425171), ('iseendastmõistetav', 0.6035975813865662), ('austav', 0.598743736743927), ('hoolima', 0.597421407699585), ('mälestama', 0.5954803824424744), ('mitte-juut', 0.5936347842216492), ('autunne', 0.5919650793075562), ('lugupidamisavaldus', 0.5900005102157593), ('lugupidavalt', 0.5897845029830933)]]\n"
     ]
    }
   ],
   "source": [
    "for k,v in synonyymid.items():#prindime tulemused ekraanile\n",
    "    print(k,v)"
   ]
  },
  {
   "cell_type": "code",
   "execution_count": 18,
   "metadata": {},
   "outputs": [
    {
     "name": "stderr",
     "output_type": "stream",
     "text": [
      "C:\\Users\\Veronika\\Anaconda3\\envs\\minu_keskkond\\lib\\site-packages\\ipykernel_launcher.py:4: DeprecationWarning: Call to deprecated `wv` (Attribute will be removed in 4.0.0, use self instead).\n",
      "  after removing the cwd from sys.path.\n"
     ]
    }
   ],
   "source": [
    "synonyymid_autonoomne = defaultdict(list)#otsime sünonüüme autonoomsetele\n",
    "for i in range(len(auton_corpus)): #kasvatusväärtustele\n",
    "    w1 =looming_corpus[i]\n",
    "    sarnased_sonad = model.wv.most_similar(positive =w1, topn=15)\n",
    "    synonyymid_autonoomne[w1].append(sarnased_sonad)"
   ]
  },
  {
   "cell_type": "code",
   "execution_count": 19,
   "metadata": {},
   "outputs": [
    {
     "name": "stdout",
     "output_type": "stream",
     "text": [
      "uudishimulik [[('uudistaja', 0.7130508422851562), ('uudishimulikult', 0.6877910494804382), ('uudistav', 0.6745314598083496), ('teadmisjanuline', 0.6596331596374512), ('pelglik', 0.6571341156959534), ('altkulmupilk', 0.6454706788063049), ('möödakõndija', 0.6448487043380737), ('vaikkus', 0.642842710018158), ('piiluja', 0.6422291994094849), ('harduma|hardunud', 0.6371948719024658), ('sebiv', 0.6338462233543396), ('uurivalt', 0.6302668452262878), ('möödajalutaja', 0.6301162838935852), ('imestav', 0.6290761232376099), ('tõuklev', 0.6285237073898315)]]\n",
      "sihikindel [[('järjekindel', 0.7706655263900757), ('sihiteadlik', 0.7311626672744751), ('eesmärgikindel', 0.6693267822265625), ('tahtekindel', 0.6531776189804077), ('ennastsalgav', 0.641759991645813), ('algatusvõimeline', 0.6336355209350586), ('arenguvõimeline', 0.6322596073150635), ('järjepidev', 0.6314107179641724), ('töökas', 0.630131721496582), ('energiline', 0.6214988231658936), ('kohusetruu', 0.6176367998123169), ('meelekindel', 0.6136988401412964), ('tahtejõuline', 0.6103200912475586), ('teokas', 0.6030719876289368), ('ohvrimeelne', 0.6019616723060608)]]\n",
      "visa [[('electroni', 0.6616774201393127), ('electron-kaart', 0.6416455507278442), ('electron|electroni', 0.6356855034828186), ('electron', 0.6293230056762695), ('mastercard', 0.6102772355079651), ('kaardiorganisatsioon', 0.6046422719955444), ('mastercard|mastercardi|mastercart', 0.5879770517349243), ('eurocard', 0.5635688304901123), ('mastercardi', 0.5523477792739868), ('maksekaart', 0.5288331508636475), ('visa-kaart', 0.5277567505836487), ('classicu', 0.5126050710678101), ('eurocard|eurocardi|eurocart', 0.5077097415924072), ('ärikaart', 0.5023683309555054), ('cirrus', 0.5009395480155945)]]\n",
      "eesmärgikindlus [[('kompleksivabadus', 0.8402128219604492), ('enesekriitilisus', 0.8215211629867554), ('veenmisvõime', 0.812890887260437), ('tasakaalutunne', 0.809771716594696), ('inimestetundmine', 0.8081146478652954), ('kaalutletud', 0.8078011274337769), ('üldistusoskus', 0.8022686839103699), ('distsiplineeritus', 0.8000583648681641), ('kadestamisväärt', 0.7981749773025513), ('hingesuurus', 0.797320544719696), ('tahtekindlus', 0.792472243309021), ('üllameelsus', 0.7915772199630737), ('eritlusvõime', 0.7889939546585083), ('mõtteerksus', 0.7875584959983826), ('vargamäelik', 0.7866268157958984)]]\n",
      "visadus [[('sihikindlus', 0.7668060064315796), ('töökus', 0.7594723701477051), ('tahtekindlus', 0.7397500872612), ('kindlameelsus', 0.7149913311004639), ('sitkus', 0.7097912430763245), ('jonnakus', 0.7052115201950073), ('südikus', 0.7024325728416443), ('tublidus', 0.6910467147827148), ('nutikus', 0.6891683340072632), ('järjekindlus', 0.6883292198181152), ('tasakaalukus', 0.6854724287986755), ('leidlikkus', 0.6815133690834045), ('korraarmastus', 0.6775376796722412), ('arukus', 0.6759899854660034), ('tarmukus', 0.6740556955337524)]]\n",
      "loominguline [[('kunstiline', 0.6531625986099243), ('tantsulooming', 0.6514291763305664), ('loov', 0.6486481428146362), ('teatrisisene', 0.6321710348129272), ('muusikaline', 0.6185518503189087), ('kreatiivne', 0.6134079098701477), ('muusikategemine', 0.6117141246795654), ('loometöö', 0.6084285974502563), ('eneseväljendusvõimalus', 0.606795072555542), ('loomeenergia', 0.6058224439620972), ('lavakunstnik', 0.6043004989624023), ('loominguprotsess', 0.6022633910179138), ('ühiskonnatundlik', 0.5965820550918579), ('skke', 0.5941606163978577), ('kaasamõtlemine', 0.5915985107421875)]]\n",
      "enesekindel [[('huumorimeelne', 0.7417100071907043), ('tahtejõuline', 0.7237849235534668), ('otsusekindel', 0.7194332480430603), ('sõnapidaja', 0.7067053318023682), ('tasakaalukas', 0.7033531069755554), ('iseteadev', 0.7027797102928162), ('taktitundeline', 0.6966668963432312), ('sõnakas', 0.6926777362823486), ('kaalutlev', 0.6920633316040039), ('võitlushimuline', 0.6908085346221924), ('edev', 0.6865863800048828), ('intelligentne', 0.6864632368087769), ('iseteadlik', 0.68619704246521), ('otsekohene', 0.6855171322822571), ('põhimõttekindel', 0.6852437257766724)]]\n",
      "teotahteline [[('algatusvõimeline', 0.7878783345222473), ('tegus', 0.753150463104248), ('töökas', 0.7439746260643005), ('arenemisvõimeline', 0.7430983781814575), ('töötahteline', 0.7429224252700806), ('ühtehoidev', 0.7198648452758789), ('pealehakkaja', 0.7161717414855957), ('võimekas', 0.7068313360214233), ('arenguvõimeline', 0.7046225070953369), ('huumorimeelne', 0.6977673768997192), ('organiseerimisvõimeline', 0.6950855851173401), ('õppimisvõimeline', 0.6947522759437561), ('edasipüüdlik', 0.6928584575653076), ('initsiatiivikai', 0.6887444257736206), ('spordilembeline', 0.6876756548881531)]]\n",
      "sihiteadlik [[('sihikindel', 0.7311626672744751), ('omakasuline', 0.7212858200073242), ('karistusaparaat', 0.7196889519691467), ('mahasalgamine', 0.7016739845275879), ('omapoiss', 0.6899421215057373), ('õigustaja', 0.6886866688728333), ('järjekindel', 0.6864652633666992), ('parasiitlus', 0.6862878799438477), ('ühiskonnavastane', 0.6852481365203857), ('konfliktilahendus', 0.6818404793739319), ('eesmärgistamine', 0.6811829805374146), ('omahuvi', 0.679503321647644), ('eneseõigustamine', 0.67742919921875), ('kahjurlus', 0.6769031882286072), ('instrumentaliseerimine', 0.6763078570365906)]]\n",
      "loomingulisus [[('loovus', 0.7941327095031738), ('keskendumisoskus', 0.7372401356697083), ('taibukus', 0.73408442735672), ('enesekriitilisus', 0.7330427169799805), ('analüüsioskus', 0.7324469089508057), ('spontaansus', 0.7279880046844482), ('leidlikkus', 0.7276085615158081), ('distsiplineeritus', 0.7231519222259521), ('esinemisjulgus', 0.718977153301239), ('üllatuslikkus', 0.7178233861923218), ('mõtteerksus', 0.717719554901123), ('isemõtlemine', 0.717558741569519), ('kompleksivabadus', 0.7168292999267578), ('energilisus', 0.7124580144882202), ('vaimuteravus', 0.7081491351127625)]]\n",
      "eneseusaldus [[('tegutsemistahe', 0.7677010297775269), ('eneseaustus', 0.7620937824249268), ('õpivõime', 0.7396004796028137), ('kindlusetunne', 0.7381970882415771), ('eneseteadlikkus', 0.7379865646362305), ('eneseusk', 0.7373050451278687), ('tööarmastus', 0.7368361353874207), ('loomevõime', 0.7368102669715881), ('enesekindlus', 0.7336114048957825), ('elujulgus', 0.7317504286766052), ('teotahe', 0.7310039401054382), ('tahtekindlus', 0.7303779125213623), ('keskendumisoskus', 0.7292302846908569), ('eduelamus', 0.7263462543487549), ('enesekriitilisus', 0.7254998683929443)]]\n",
      "sihikindlus [[('tahtekindlus', 0.7804639339447021), ('visadus', 0.7668060064315796), ('töökus', 0.748682975769043), ('tasakaalukus', 0.742108941078186), ('tööarmastus', 0.7376289367675781), ('eesmärgikindlus', 0.7347742915153503), ('töötahe', 0.7286129593849182), ('kindlameelsus', 0.7254454493522644), ('tegutsemistahe', 0.7252341508865356), ('kompleksivabadus', 0.713591456413269), ('riskijulgus', 0.7107141613960266), ('põhimõttekindlus', 0.7104586362838745), ('distsiplineeritus', 0.7082240581512451), ('erudeeritus', 0.707686722278595), ('mehisus', 0.7070689797401428)]]\n",
      "loov [[('loovus', 0.7226525545120239), ('kreatiivne', 0.7008314728736877), ('stambivaba', 0.6707773208618164), ('enesemõistmine', 0.6564398407936096), ('ülesehitav', 0.6549307107925415), ('väärtustav', 0.6519444584846497), ('loominguline', 0.6486481428146362), ('loomingulisus', 0.6459221243858337), ('progressiusk', 0.6323267817497253), ('eneseväljendusvõimalus', 0.6319583654403687), ('iseväärtuslik', 0.6317136287689209), ('initsiatiivikai', 0.6309710741043091), ('loomuomaselt', 0.6293092966079712), ('iseorganiseerumine', 0.6286489963531494), ('kõrgprofessionaalne', 0.6285887956619263)]]\n",
      "järjekindel [[('sihikindel', 0.7706655263900757), ('järjepidev', 0.6944922208786011), ('sihiteadlik', 0.6864652633666992), ('eesmärgikindel', 0.6576792001724243), ('kavakindel', 0.6556901931762695), ('kindlameelne', 0.6502293348312378), ('tasakaalukas', 0.6431522369384766), ('sirgjooneline', 0.6418437361717224), ('eelarvamustevaba', 0.6353368163108826), ('jäärapäine', 0.634080171585083), ('kompromissialdis', 0.6281702518463135), ('järjekindlus', 0.6274228096008301), ('põhimõttekindel', 0.627257227897644), ('järeleandlik', 0.6226473450660706), ('otsusekindel', 0.6201393604278564)], [('sihikindel', 0.7706655263900757), ('järjepidev', 0.6944922208786011), ('sihiteadlik', 0.6864652633666992), ('eesmärgikindel', 0.6576792001724243), ('kavakindel', 0.6556901931762695), ('kindlameelne', 0.6502293348312378), ('tasakaalukas', 0.6431522369384766), ('sirgjooneline', 0.6418437361717224), ('eelarvamustevaba', 0.6353368163108826), ('jäärapäine', 0.634080171585083), ('kompromissialdis', 0.6281702518463135), ('järjekindlus', 0.6274228096008301), ('põhimõttekindel', 0.627257227897644), ('järeleandlik', 0.6226473450660706), ('otsusekindel', 0.6201393604278564)]]\n",
      "sitkus [[('südikus', 0.7304559946060181), ('tahtekindlus', 0.7292405962944031), ('vaimujõud', 0.7290893793106079), ('võidutahe', 0.7285512685775757), ('särtsakus', 0.7181773781776428), ('erksus', 0.7172695398330688), ('töötahe', 0.7151261568069458), ('tahtejõud', 0.7134784460067749), ('võitlejahing', 0.7130248546600342), ('plahvatuslikkus', 0.7119617462158203), ('visadus', 0.7097912430763245), ('võitlustahe', 0.7036789655685425), ('võistlusnärv', 0.7035835981369019), ('ihuramm', 0.7017462253570557), ('atleetlikkus', 0.7008720636367798)]]\n",
      "tegus [[('teotahteline', 0.753150463104248), ('algatusvõimeline', 0.7322693467140198), ('teovõimas', 0.7180256843566895), ('töötahteline', 0.7048950791358948), ('toimekas', 0.6980605125427246), ('arenemisvõimeline', 0.6978052854537964), ('initsiatiivikai', 0.6927233338356018), ('tarmukas', 0.6814035773277283), ('ettevõtlik', 0.6799606084823608), ('teokas', 0.6747125387191772), ('töökas', 0.6648839712142944), ('energiline', 0.6646550893783569), ('võimekas', 0.6589749455451965), ('edasipüüdlik', 0.6555294990539551), ('vastutustundeline', 0.6533845663070679)]]\n",
      "enesekindlus [[('eneseusk', 0.8402777910232544), ('eneseusaldus', 0.7336113452911377), ('võidutahe', 0.7105271220207214), ('julgus', 0.706110954284668), ('tegutsemistahe', 0.675993800163269), ('tahtejõud', 0.6743941903114319), ('vaimujõud', 0.6741499304771423), ('tahtekindlus', 0.6732355356216431), ('võitluslikkus', 0.6667382717132568), ('sitkus', 0.6641075611114502), ('võitlusvaim', 0.6624627709388733), ('südikus', 0.6619654893875122), ('võiduiha', 0.6609312295913696), ('optimism', 0.6607708930969238), ('enesevalitsemine', 0.6589502096176147)]]\n",
      "ambitsioonikas [[('auahne', 0.7257270216941833), ('kõrgelennuline', 0.617580235004425), ('visioon', 0.596403956413269), ('lennukas', 0.5950164794921875), ('kaugelenägelik', 0.580115556716919), ('ebarealistlik', 0.5736395120620728), ('avantüristlik', 0.5714854001998901), ('võimuahne', 0.5677255988121033), ('läbilöögivõimeline', 0.5654942393302917), ('laiahaardeline', 0.5630521774291992), ('nutikas', 0.5622613430023193), ('soolomängija', 0.5612346529960632), ('teovõimas', 0.561054527759552), ('võimukas', 0.557347297668457), ('ambitsioon', 0.5562236309051514)]]\n",
      "ettevõtlik [[('hakkaja', 0.6845651865005493), ('tegus', 0.6799606084823608), ('algatusvõimeline', 0.6676394939422607), ('teotahteline', 0.6646586060523987), ('positsioonikas', 0.6524010896682739), ('edasipürgiv', 0.6487452983856201), ('kultuurilembene', 0.6402684450149536), ('õpihimuline', 0.6399499177932739), ('edasipüüdlik', 0.6399281024932861), ('arenemisvõimeline', 0.6363705992698669), ('tarmukas', 0.6360571980476379), ('kunstilembene', 0.6318693161010742), ('initsiatiivikai', 0.6309383511543274), ('õpivõimeline', 0.6304814219474792), ('spordilembeline', 0.6252411603927612)]]\n",
      "eneseteadvus [[('iseteadvus', 0.779202401638031), ('rahvustunne', 0.7369940280914307), ('identiteeditunne', 0.7137657403945923), ('eneseväärikus', 0.7137653231620789), ('kokkukuuluvustunne', 0.705079972743988), ('iseolemine', 0.7007426619529724), ('rahvusteadvus', 0.698649525642395), ('rahvusidentiteet', 0.6943543553352356), ('identiteet', 0.6897474527359009), ('eneseteadlikkus', 0.6882394552230835), ('enesetunnetus', 0.6840353012084961), ('eneseteadvustamine', 0.6785850524902344), ('kodanikutunne', 0.6758440136909485), ('ühismälu', 0.675136387348175), ('kultuuritase', 0.6701842546463013)]]\n",
      "algatusvõimeline [[('initsiatiivikai', 0.8251849412918091), ('õpivõimeline', 0.8188891410827637), ('töötahteline', 0.8149629235267639), ('organiseerimisvõimeline', 0.806463360786438), ('analüüsivõimeline', 0.8026890754699707), ('õppimisvõimeline', 0.7938015460968018), ('empaatiavõimeline', 0.7911339998245239), ('teotahteline', 0.7878783941268921), ('õppimishimuline', 0.7859872579574585), ('ideerikas', 0.7768566608428955), ('eesmärgikindel', 0.770726203918457), ('arenemisvõimeline', 0.7703723907470703), ('arenemishimuline', 0.7658545970916748), ('tegutsemisjulgus', 0.7651252746582031), ('spordilembeline', 0.7567434906959534)]]\n",
      "eneseteadlik [[('iseteadev', 0.7850431203842163), ('egotsentriline', 0.736261248588562), ('tahtekindel', 0.7287886142730713), ('empaatiline', 0.7270225286483765), ('konsumeristlik', 0.7244423031806946), ('introvertne', 0.7227070331573486), ('üdin|üdini', 0.7222270965576172), ('riskijulge', 0.7169145345687866), ('ohvrimeelne', 0.7160471677780151), ('edasipürgiv', 0.7151275873184204), ('elujanune', 0.7146353721618652), ('mehekeskne', 0.713774561882019), ('empaatiavõimeline', 0.7135987281799316), ('huumorimeelne', 0.7131618857383728), ('paljulugenud', 0.712714433670044)]]\n",
      "iseseisev [[('rippumatu', 0.6684243679046631), ('eraldiseisev', 0.6355432868003845), ('iseseisvalt', 0.6098748445510864), ('iseseisvus', 0.6014540195465088), ('iseseisvas', 0.5963759422302246), ('vastutusvõimeline', 0.596123456954956), ('iseseisev|iseseisvate', 0.5909344553947449), ('kaitsevõimeline', 0.5908689498901367), ('organisatsiooniliselt', 0.5903100967407227), ('kontinuiteet', 0.5861680507659912), ('rahvakirik', 0.5860027074813843), ('mittetulun-dusühing', 0.5845065116882324), ('multietniline', 0.5830625295639038), ('insenerikoda', 0.5830445289611816), ('kiirreageerimisvõimekus', 0.5819602012634277)], [('rippumatu', 0.6684243679046631), ('eraldiseisev', 0.6355432868003845), ('iseseisvalt', 0.6098748445510864), ('iseseisvus', 0.6014540195465088), ('iseseisvas', 0.5963759422302246), ('vastutusvõimeline', 0.596123456954956), ('iseseisev|iseseisvate', 0.5909344553947449), ('kaitsevõimeline', 0.5908689498901367), ('organisatsiooniliselt', 0.5903100967407227), ('kontinuiteet', 0.5861680507659912), ('rahvakirik', 0.5860027074813843), ('mittetulun-dusühing', 0.5845065116882324), ('multietniline', 0.5830625295639038), ('insenerikoda', 0.5830445289611816), ('kiirreageerimisvõimekus', 0.5819602012634277)]]\n",
      "sitke [[('vintske', 0.6819347143173218), ('võitlejahing|võitlejahinge', 0.6389440298080444), ('tahtejõuline', 0.6304977536201477), ('sitkem', 0.6235308647155762), ('nõelterav', 0.6179717183113098), ('südi', 0.6124716997146606), ('tahtekindel', 0.6124505400657654), ('pikakasvuline', 0.6083093881607056), ('sitkus', 0.6078313589096069), ('raudkõva', 0.6044940948486328), ('atleetlik', 0.6028037667274475), ('lühikasvuline', 0.6027542948722839), ('väikesekasvuline', 0.6016685962677002), ('kivikõva', 0.6003208756446838), ('laiaõlgne', 0.5994579792022705)]]\n",
      "uudishimulikkus [[('elujaatavus', 0.8335663676261902), ('loojatüüp', 0.8284518122673035), ('puhtsüdamlikkus', 0.8240406513214111), ('egotsentrilisus', 0.8233569264411926), ('dogmaatilisus', 0.8218547701835632), ('hingetarkus', 0.8150384426116943), ('inimestetundmine', 0.8134526014328003), ('kõikeületav', 0.8110369443893433), ('armastusvõime', 0.8108842372894287), ('idiosünkraatiline', 0.8096119165420532), ('kohusetruudus', 0.8085722327232361), ('autorihoiak', 0.8083890676498413), ('seltsivus', 0.8047650456428528), ('sügavmõttelisus', 0.8033088445663452), ('aristokratism', 0.8027377724647522)]]\n",
      "järjekindlus [[('visadus', 0.6883292198181152), ('põhimõttekindlus', 0.651209831237793), ('kindlameelsus', 0.6456891298294067), ('kompromissitus', 0.640188455581665), ('printsipiaalsus', 0.6353163719177246), ('järjekindel', 0.6274228096008301), ('sihikindlus', 0.6236167550086975), ('tahtekindlus', 0.6143820285797119), ('kompleksivabadus', 0.6119180917739868), ('tasakaalukus', 0.6062335968017578), ('söakus', 0.605516791343689), ('sirgjoonelisus', 0.6049853563308716), ('kollegiaalsus', 0.6027743816375732), ('arukus', 0.5999497175216675), ('jäärapäisus', 0.5998332500457764)]]\n",
      "ettevõtlikkus [[('algatusvõime', 0.7637141942977905), ('töökus', 0.722413957118988), ('teotahe', 0.7169125080108643), ('töötahe', 0.7042229771614075), ('riskijulgus', 0.691232442855835), ('initsiatiivik', 0.6901218891143799), ('tegutsemistahe', 0.6833552122116089), ('õppimistahe', 0.6810071468353271), ('tegutsemisjulgus', 0.6737797856330872), ('loovus', 0.6724731922149658), ('kodanikutunne', 0.6720328330993652), ('loomingulisus', 0.6660075187683105), ('pealehakkamine', 0.6659673452377319), ('kodanikuaktiivsus', 0.665899395942688), ('sihikindlus', 0.6596601605415344)]]\n",
      "loovus [[('loomingulisus', 0.7941327095031738), ('keskendumisoskus', 0.7293720245361328), ('analüüsioskus', 0.7286208271980286), ('loov', 0.7226525545120239), ('individuaalsus', 0.709757924079895), ('koostööoskus', 0.7072928547859192), ('enesetundmine', 0.7072333693504333), ('initsiatiivik', 0.7034205198287964), ('isiksuslik', 0.6997950077056885), ('õppimistahe', 0.6992030739784241), ('kuulamisoskus', 0.6984231472015381), ('sotsiaalpedagoogiline', 0.6973968744277954), ('intellekt', 0.6954885721206665), ('mõtteerksus', 0.6949732899665833), ('isemõtlemine', 0.6916662454605103)]]\n"
     ]
    }
   ],
   "source": [
    "for k,v in synonyymid_autonoomne.items(): #tulemused ekraanile\n",
    "    print(k,v)"
   ]
  }
 ],
 "metadata": {
  "kernelspec": {
   "display_name": "Python 3",
   "language": "python",
   "name": "python3"
  },
  "language_info": {
   "codemirror_mode": {
    "name": "ipython",
    "version": 3
   },
   "file_extension": ".py",
   "mimetype": "text/x-python",
   "name": "python",
   "nbconvert_exporter": "python",
   "pygments_lexer": "ipython3",
   "version": "3.5.3"
  }
 },
 "nbformat": 4,
 "nbformat_minor": 2
}
