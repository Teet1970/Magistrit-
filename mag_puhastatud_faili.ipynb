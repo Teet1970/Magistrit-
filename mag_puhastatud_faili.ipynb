{
 "cells": [
  {
   "cell_type": "markdown",
   "metadata": {},
   "source": [
    "Mõned märkused koodi kirjutamise protsessi juurde:\n",
    "•\tKuna kokku on tekste üle 150000, siis alustati testimist väiksema andmehulga peal (5000 teksti).\n",
    "•\tValikust jäid välja tekstid, kus on vähem kui 2 sõna.\n",
    "•\tKuna eesmärgiks oli eeskätt üles kasvatusväärtustega tekstid, siis selles etapis kasutati jaotust, kus kasvatusväärtused olid jaotatud kaheks – traditsioonilised ja autonoomsed.\n",
    "•\tOnline tekstides on väga levinud lausete kokkukirjutamine  ilma tühikuta. Kui laused olid jäetud tühikuteta eraldamata ja lõppesid punkti, hüüumärgi või küsimärgiga, siis tekitasime sinna lausete vahele tühiku.\n",
    "•\tLemmatiseeriti laused. Kui lemmatiseeritud sõna jäi analüüsi järel mitmeseks (näiteks 'kuulama|kuulanud“), siis võrreldi kõiki EstNLTK poolt pakutud sõnu kasvatusväärtuste sõnastikus leiduvatega. \n",
    "•\tGrammatikaga loodi sõnapaarid „sõna kuulama“, „kuulama sõna“, „käsku täitma“, „kohustusi täitma“.\n",
    "•\tKasvatusväärtusi sisaldavad laused paigutati sõnastikesse, kus võtmeteks olid kasvatusväärtused ja väärtusteks laused."
   ]
  },
  {
   "cell_type": "code",
   "execution_count": 3,
   "metadata": {},
   "outputs": [],
   "source": [
    "import re\n",
    "import json\n",
    "from collections import Counter\n",
    "from collections import defaultdict\n",
    "from estnltk import Text, Regex, Lemmas, Postags, Concatenation, Union, Gaps\n",
    "import pandas as pd\n",
    "import matplotlib.pyplot as plt"
   ]
  },
  {
   "cell_type": "code",
   "execution_count": 4,
   "metadata": {},
   "outputs": [],
   "source": [
    "nimisonad = Lemmas('käitumine', 'laps','õpilane', 'koolilaps','poiss','tüdruk','komme','kasvatus','kasvatamine')\n",
    "omadussonad =Lemmas('viisakas','korralik','aus' )\n",
    "space = Regex('\\s')\n",
    "verb2 =Lemmas('kuulama')\n",
    "verb4 =Lemmas('täitma')\n",
    "nimisona2=Lemmas('sõna')\n",
    "nimisona5=Lemmas('kohustus')\n",
    "nimisona6=Lemmas('käsk')\n",
    "omadussonad_nimisonad=Concatenation(omadussonad,nimisonad, sep = space)\n",
    "kuulama_sona = Concatenation(verb2, nimisona2, sep = space)\n",
    "sona_kuulama =Concatenation(nimisona2, verb2, sep = space)\n",
    "kohustus_taitma =Concatenation(nimisona5,verb4, sep = space)\n",
    "kask_taitma =Concatenation(nimisona6,verb4, sep = space)\n",
    "trad_vaartused = Gaps(Union(kuulama_sona, sona_kuulama,kohustus_taitma,omadussonad_nimisonad))\n"
   ]
  },
  {
   "cell_type": "code",
   "execution_count": 5,
   "metadata": {},
   "outputs": [],
   "source": [
    "trad = ['kuulekas','sõnakuulelik','töökas','ausus','püüdlik','sõnakuulekas',\n",
    "        'hoolas','distsiplineeritud','kuulekus','sõnakuulelikkus','austus',\n",
    "        'viisakus','töökus','püüdlikkus','korralikkus','usinus',\n",
    "        'distsipliin','enesedistsipliin', 'austama','vastutustunne',\n",
    "        'kohusetunne','kohusetundlik','austav','sõnakuulekus', 'lugupidav',\n",
    "        'respekteeriv','hästikasvatatud','sõnapidaja','sõnapidamine',\n",
    "        'kohusetruu','edasipüüdlikkus','korraarmastus','korraarmastaja',\n",
    "        'distsiplineeritus','õppimistahe','andestav','abivalmis',\n",
    "        'abivalmidus','isetu', 'isetus'\n",
    "        ]"
   ]
  },
  {
   "cell_type": "code",
   "execution_count": 6,
   "metadata": {},
   "outputs": [],
   "source": [
    "auton =['enesekindlus','eneseusaldus','loovus','uudishimulikkus','iseseisvus',\n",
    "        'ettevõtlikkus','eneseteadvus','eesmärgikindlus','visadus','järjekindlus',\n",
    "        'sihikindlus','sitkus','loomingulisus','enesekindel','loov','uudishimulik',\n",
    "        'iseseisev','ettevõtlik','eneseteadlik','sihiteadlik','järjekindel',\n",
    "        'sihikindel','teotahteline','tegus','algatusvõimeline','järjekindel',\n",
    "        'loominguline','ambitsioonikas', 'sihiteadlik','saavutusvajadus',\n",
    "        'algatusvõime','otsustamisjulgus','kreatiivne','kreatiivsus',\n",
    "        'teadmisjanuline','edasipüüdlik','eneseaustus', 'eneseteostus'\n",
    "         ]"
   ]
  },
  {
   "cell_type": "code",
   "execution_count": 7,
   "metadata": {},
   "outputs": [],
   "source": [
    "jarjend =[]#loeme andmed faili\n",
    "arv =0\n",
    "with open('koik_test.json') as f:\n",
    "    for line in f:\n",
    "        uus_rida = json.loads(line)  \n",
    "        jarjend.append(uus_rida)"
   ]
  },
  {
   "cell_type": "code",
   "execution_count": 8,
   "metadata": {},
   "outputs": [],
   "source": [
    "aasta_loe = Counter()#loeme postitused aastate kaupa\n",
    "for rida in jarjend:\n",
    "    kuupaev = rida[3]\n",
    "    aasta = re.findall(r'\\d{4}',str(kuupaev))#võtan kuupäevast välja aasta\n",
    "    aasta = int(aasta[0])\n",
    "    if aasta != 2019:#arvesse ei lähe 2019 aasta postitused\n",
    "        aasta_loe[aasta]+=1"
   ]
  },
  {
   "cell_type": "code",
   "execution_count": 9,
   "metadata": {},
   "outputs": [
    {
     "data": {
      "text/html": [
       "<div>\n",
       "<style scoped>\n",
       "    .dataframe tbody tr th:only-of-type {\n",
       "        vertical-align: middle;\n",
       "    }\n",
       "\n",
       "    .dataframe tbody tr th {\n",
       "        vertical-align: top;\n",
       "    }\n",
       "\n",
       "    .dataframe thead th {\n",
       "        text-align: right;\n",
       "    }\n",
       "</style>\n",
       "<table border=\"1\" class=\"dataframe\">\n",
       "  <thead>\n",
       "    <tr style=\"text-align: right;\">\n",
       "      <th></th>\n",
       "      <th>Postitused</th>\n",
       "    </tr>\n",
       "    <tr>\n",
       "      <th>Aasta</th>\n",
       "      <th></th>\n",
       "    </tr>\n",
       "  </thead>\n",
       "  <tbody>\n",
       "    <tr>\n",
       "      <th>2012</th>\n",
       "      <td>29734</td>\n",
       "    </tr>\n",
       "    <tr>\n",
       "      <th>2013</th>\n",
       "      <td>26350</td>\n",
       "    </tr>\n",
       "    <tr>\n",
       "      <th>2014</th>\n",
       "      <td>27902</td>\n",
       "    </tr>\n",
       "    <tr>\n",
       "      <th>2015</th>\n",
       "      <td>22274</td>\n",
       "    </tr>\n",
       "    <tr>\n",
       "      <th>2016</th>\n",
       "      <td>18665</td>\n",
       "    </tr>\n",
       "    <tr>\n",
       "      <th>2017</th>\n",
       "      <td>15550</td>\n",
       "    </tr>\n",
       "    <tr>\n",
       "      <th>2018</th>\n",
       "      <td>18320</td>\n",
       "    </tr>\n",
       "  </tbody>\n",
       "</table>\n",
       "</div>"
      ],
      "text/plain": [
       "       Postitused\n",
       "Aasta            \n",
       "2012        29734\n",
       "2013        26350\n",
       "2014        27902\n",
       "2015        22274\n",
       "2016        18665\n",
       "2017        15550\n",
       "2018        18320"
      ]
     },
     "execution_count": 9,
     "metadata": {},
     "output_type": "execute_result"
    }
   ],
   "source": [
    "result_aasta = sorted(aasta_loe.items(),key=lambda t : t[0]) #järjestame \n",
    "df =pd.DataFrame(result_aasta) #postitused aastate järgi\n",
    "df.columns=['Aasta','Postitused'] #teeme tabelisse veergude pealkirjad\n",
    "df.set_index('Aasta',inplace=True) #muudame aasta indeksiks\n",
    "df "
   ]
  },
  {
   "cell_type": "code",
   "execution_count": 11,
   "metadata": {},
   "outputs": [
    {
     "data": {
      "image/png": "[encoded data removed]",
      "text/plain": [
       "<Figure size 432x288 with 1 Axes>"
      ]
     },
     "metadata": {},
     "output_type": "display_data"
    }
   ],
   "source": [
    "#teen tulemustest joonise\n",
    "with plt.style.context('fivethirtyeight'):\n",
    "    plt.bar(*zip(*result_aasta))\n",
    "    plt.xlabel('Aastad')\n",
    "    plt.ylabel('Arv')\n",
    "    plt.show()"
   ]
  },
  {
   "cell_type": "code",
   "execution_count": 63,
   "metadata": {},
   "outputs": [],
   "source": [
    "uus_list2 =[]\n",
    "puhas_rida =[]\n",
    "trad_tekst = defaultdict(list)\n",
    "auton_tekst = defaultdict(list)\n",
    "trad_loe = Counter()\n",
    "auton_loe = Counter()\n",
    "arv =0\n",
    "for j_rida in jarjend:\n",
    "    kuupaev = j_rida[3]\n",
    "    tekst = j_rida[4]\n",
    "    aasta = re.findall(r'\\d{4}',str(kuupaev))#võtan kuupäevast välja aasta\n",
    "    aasta = int(aasta[0])\n",
    "    if len(tekst.split())>1 and aasta != 2019:#välja jäävad teksid, mis on lühemad kui 2 sõna\n",
    "        aasta_loe[aasta]+=1\n",
    "        uus_tekst2 = re.sub(r'\\.([a-zA-Z])', r'. \\1', tekst)#lahutan kokkukirjutatud lauseid\n",
    "        uus_tekst3= re.sub(r'\\?([a-zA-Z])', r'? \\1', uus_tekst2)\n",
    "        uus_tekst4= re.sub(r'\\!([a-zA-Z])', r'! \\1', uus_tekst3)\n",
    "        tekst = Text(uus_tekst4)#teen teksti objektiks\n",
    "        for lause in tekst.split_by('sentences'):#teen tekstid lauseteks\n",
    "            puhas_lause = lause['text']#lause tekst\n",
    "            lemmad =Text(lause).lemmas#lemmatiseeritud lause\n",
    "            for match in trad_vaartused.get_matches(lause):#otsin kasvatusväärtusi grammatikaga\n",
    "                lemmatiseerimine =' '.join(map(str, Text(match.text).lemmas))\n",
    "                trad_tekst[lemmatiseerimine].append(puhas_lause)\n",
    "                trad_loe[lemmatiseerimine]+=1\n",
    "                uus_list2 +=[[j_rida[0],j_rida[1],j_rida[2],j_rida[3],uus_tekst4]]             \n",
    "            for j in range(len(lemmad)):#käin laused üle sõnakaupa\n",
    "                sona =lemmad[j]\n",
    "                if '|'in sona:#kui lemma jääb mitmeseks, siis lisame nimekirja esimesel kohal oleva sõnakuju\n",
    "                    nimekiri = list((sona).split('|'))                \n",
    "                    for rida in nimekiri:\n",
    "                        if rida in trad:\n",
    "                            trad_tekst[sona].append(puhas_lause)\n",
    "                            trad_loe[sona]+=1\n",
    "                            uus_list2 +=[[j_rida[0],j_rida[1],j_rida[2],j_rida[3],uus_tekst4]]                                \n",
    "                        if rida in looming:\n",
    "                            auton_tekst[sona].append(puhas_lause)\n",
    "                            auton_loe[sona]+=1\n",
    "                            uus_list2 +=[[j_rida[0],j_rida[1],j_rida[2],j_rida[3],uus_tekst4]]                                \n",
    "                else:\n",
    "                    if sona in trad:\n",
    "                        trad_tekst[sona].append(puhas_lause)\n",
    "                        trad_loe[sona]+=1\n",
    "                        uus_list2 +=[[j_rida[0],j_rida[1],j_rida[2],j_rida[3],uus_tekst4]]                            \n",
    "                    if sona in looming:\n",
    "                        auton_tekst[sona].append(puhas_lause)\n",
    "                        auton_loe[sona]+=1\n",
    "                        uus_list2 +=[[j_rida[0],j_rida[1],j_rida[2],j_rida[3],uus_tekst4]]\n",
    "\n",
    "         "
   ]
  },
  {
   "cell_type": "code",
   "execution_count": 64,
   "metadata": {},
   "outputs": [
    {
     "name": "stdout",
     "output_type": "stream",
     "text": [
      "Traditsioonilised Counter({'austama': 328, 'kohusetunne': 256, 'distsipliin': 238, 'viisakus': 213, 'kohusetundlik': 181, 'austus': 164, 'püüdlik': 142, 'vastutustunne': 128, 'abivalmis': 106, 'töökas': 87, 'sõna kuulama': 66, 'hoolas': 66, 'sõnakuulelik': 60, 'lugupidav': 60, 'töökus': 51, 'ausus': 47, 'kuulama sõna': 45, 'kuulekas': 42, 'püüdlikkus': 40, 'kohustus täitma': 36, 'korralikkus': 35, 'enesedistsipliin': 35, 'korralik laps': 32, 'viisakas käitumine': 28, 'viisakas laps': 24, 'austav': 22, 'korraarmastaja': 16, 'hästikasvatatud': 16, 'korralik tüdruk': 15, 'korraarmastus': 13, 'distsiplineerima|distsiplineeritud': 12, 'austama|austatud': 11, 'abivalmidus': 11, 'usinus': 11, 'korralik käitumine': 11, 'korralik poiss': 9, 'austama|austanud': 8, 'korralik kasvatus': 7, 'kohustus täitma|täitnud': 7, 'kuulekus': 7, 'austama laps': 6, 'kohustus täidetud|täitma': 6, 'viisakas poiss': 6, 'viisakas komme': 5, 'korralik lapsevanem': 5, 'õppimistahe': 5, 'sõnakuulelikkus': 4, 'korralik õpilane': 4, 'viisakas kommentaar': 3, 'sõna kuulama|kuulanud': 3, 'korralik koolilaps': 3, 'korralik komme': 3, 'viisakas lapsevanem': 3, 'korralikult laps': 3, 'andestav': 2, 'korralikum laps': 2, 'ausalt laps': 2, 'viisakas kasvatus': 2, 'viisakas kasvatamine': 2, 'sõnakuulekas': 2, 'ausus laps': 1, 'ausalt tüdruk': 1, 'korralikult kommentaar': 1, 'austakste laps': 1, 'aus kommentaar': 1, 'kohustus täitmatajätmine': 1, 'viisakas kommenteerima': 1, 'korralikum õpilane': 1, 'korralikkus laps': 1, 'austav lapsevanem': 1, 'kuulama sõnatult': 1, 'korralike-tubli laps': 1, 'korralikum tüdruk': 1, 'kuulama|kuulanud sõna': 1, 'respekteeriv': 1, 'austus kommentaar': 1, 'austav käitumine': 1, 'aus käitumine': 1, 'viisakas õpilane': 1, 'distsiplineeritus': 1, 'viisakas tüdruk': 1, 'aus laps': 1, 'ausaltöelde õpilane': 1})\n",
      "Autonoomsed Counter({'iseseisev': 711, 'enesekindlus': 408, 'loovus': 307, 'iseseisvus': 264, 'enesekindel': 186, 'loominguline': 177, 'loov': 131, 'järjekindel': 88, 'uudishimulik': 81, 'tegus': 81, 'loomingulisus': 80, 'järjekindlus': 62, 'ettevõtlik': 40, 'saavutusvajadus': 39, 'ambitsioonikas': 38, 'sihikindel': 23, 'eneseteostus': 23, 'ettevõtlikkus': 20, 'sihikindlus': 16, 'edasipüüdlik': 13, 'algatusvõime': 10, 'eneseusaldus': 7, 'visadus': 6, 'teotahteline': 6, 'eneseteadvus': 4, 'eneseteadlik': 3, 'sitkus': 2, 'eesmärgikindlus': 2, 'uudishimulikkus': 1, 'otsustamisjulgus': 1, 'teadmisjanuline': 1, 'eneseaustus': 1})\n"
     ]
    }
   ],
   "source": [
    "print('Traditsioonilised',trad_loe)\n",
    "print('Autonoomsed',auton_loe)"
   ]
  },
  {
   "cell_type": "markdown",
   "metadata": {},
   "source": [
    "Alljärgnevad kaks koodilõiku on deaktiveeritud, aga kui nad aktiveerida, saab näha kasvatusväätustega seoses tekstidest leitud lauseid."
   ]
  },
  {
   "cell_type": "code",
   "execution_count": null,
   "metadata": {},
   "outputs": [],
   "source": [
    "#for k,v in trad_tekst.items(): #traditsioonilised kasvatusväärtused koos lausetega\n",
    "    #print(k)\n",
    "    #print()\n",
    "    #for number,rida in enumerate(v[:5],start =1): #kuvatakse 5 lauset, soovi\n",
    "        #print(number,rida) #korral saab muuta suuremaks arvu\n",
    "    #print()\n",
    "    #print('-------------------------')\n",
    "    #print()"
   ]
  },
  {
   "cell_type": "code",
   "execution_count": null,
   "metadata": {},
   "outputs": [],
   "source": [
    "#for k,v in auton_tekst.items():#autonoomsed kasvatusväärtused koos lausetega\n",
    "    #print(k)\n",
    "    #print()\n",
    "    #for number,rida in enumerate(v[:5],start =1):#vastavalt soovile saab \n",
    "        #print(number,rida) #muuta kuvatavate lausete arvu, praegu on see 5\n",
    "    #print()\n",
    "    #print('-------------------------')\n",
    "    #print() "
   ]
  },
  {
   "cell_type": "code",
   "execution_count": 67,
   "metadata": {
    "scrolled": true
   },
   "outputs": [],
   "source": [
    "import json #salvestame andmed ka enne unikaalsete andmeridade leidmist\n",
    "with open('puhastatud2.json', 'w') as fout:\n",
    "    for rida in uus_list2:\n",
    "        json.dump(rida,fout)\n",
    "        fout.write('\\n')"
   ]
  },
  {
   "cell_type": "code",
   "execution_count": 68,
   "metadata": {},
   "outputs": [],
   "source": [
    "#leiame unikaalsed andmeread\n",
    "unikaalsed_tekstid = [list(x) for x in set(tuple(x) for x in uus_list2)]"
   ]
  },
  {
   "cell_type": "code",
   "execution_count": 69,
   "metadata": {},
   "outputs": [
    {
     "name": "stdout",
     "output_type": "stream",
     "text": [
      "4612\n"
     ]
    }
   ],
   "source": [
    "print(len(unikaalsed_tekstid))#unikaalsete andmeridade arv\n",
    "arv =0\n",
    "loplik_list =[]\n",
    "loplik_rida =[]\n",
    "for rida in unikaalsed_tekstid:#lisame igale reale järjekorranumbri ehk indeksi\n",
    "    arv +=1\n",
    "    loplik_rida = [arv,rida[0],rida[1],rida[2],rida[3],rida[4]]\n",
    "    loplik_list += [loplik_rida]\n"
   ]
  },
  {
   "cell_type": "code",
   "execution_count": 70,
   "metadata": {},
   "outputs": [],
   "source": [
    "with open('loplikult_puhastatud3.json', 'w') as fout:#kirjutame \n",
    "    for rida in loplik_list: #puhastatud andmed faili\n",
    "        json.dump(rida,fout)\n",
    "        fout.write('\\n')"
   ]
  }
 ],
 "metadata": {
  "kernelspec": {
   "display_name": "Python 3",
   "language": "python",
   "name": "python3"
  },
  "language_info": {
   "codemirror_mode": {
    "name": "ipython",
    "version": 3
   },
   "file_extension": ".py",
   "mimetype": "text/x-python",
   "name": "python",
   "nbconvert_exporter": "python",
   "pygments_lexer": "ipython3",
   "version": "3.5.3"
  }
 },
 "nbformat": 4,
 "nbformat_minor": 2
}
