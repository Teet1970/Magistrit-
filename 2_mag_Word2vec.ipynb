{
 "cells": [
  {
   "cell_type": "markdown",
   "metadata": {},
   "source": [
    "##Word2vec\n",
    "\n",
    "Word2vec – suhteliselt vähest arvutusvõimsust vajav masinõppe algoritm, leidmaks tekstist seoseid sõnade vahel. On võimalik kasutada kahte mudelit - Continuous Bag-of-Words (CBOW) ja Skip-Gram. Algoritmiliselt on mudelid sarnased, välja arvatud see, et kui CBOW mudel leiab nö sihtsõnasid (target-words) kogu lähteandmestiku kontekstist, siis Skip-Gram mudelis on vastupidi ja leitakse lähteandmestiku konteksti sõnad sihtsõnadest (Mikolov, Chen, Corrado ja Dean, 2013). Skip-Gram mudel oluliselt parem just semantilises analüüsis, samas kui süntaktilise analüüsi täpsus on mudelitel sarnane. Skip-Gram’i mudeli treenimisel on olulised parameetrid dimensionaalsus ehk kui mitu vektorit on ühel sõnal teiste sõnade suunal ja aken (window) ehk kui mitut sõna enne ja pärast sõna analüüsitakse (maksimumpikkuseks on lause). Mida suurem dimensionaalsus ja mida suurem aken, seda parem tulemus, aga koos sellega kaasneb ka vajaliku arvutusvõimsuse arv. Algoritm arvutab sõnade üksteisevahelisest kaugusest tulenevalt kaalud (weights) – mida lähemal sõnad üksteisele tekstis asuvad, seda suurem kaal (Mikolov jt, 2013). Sünonüümide leidmisel kasutataksegi kaalude andmeid – mida suurem on arv skaalal nullist üheni, seda sarnasemad on sõnade tähendused algoritmi arvates.\n",
    "Sünonüümide leidmisel kasutati Eesti keele koondkorpuse  (sisaldab 55 miljonit sõna ja 16 miljonit lauset) tekstide peal treenitud lemmatiseeritud Skip-Gram mudelit, mille dimensionaalsus on 200. "
   ]
  },
  {
   "cell_type": "code",
   "execution_count": 1,
   "metadata": {},
   "outputs": [
    {
     "name": "stderr",
     "output_type": "stream",
     "text": [
      "C:\\Users\\Veronika\\Anaconda3\\envs\\minu_keskkond\\lib\\site-packages\\gensim\\utils.py:1197: UserWarning: detected Windows; aliasing chunkize to chunkize_serial\n",
      "  warnings.warn(\"detected Windows; aliasing chunkize to chunkize_serial\")\n"
     ]
    }
   ],
   "source": [
    "from gensim.models import Word2Vec\n",
    "import gensim.models.keyedvectors as word2vec"
   ]
  },
  {
   "cell_type": "code",
   "execution_count": 2,
   "metadata": {},
   "outputs": [],
   "source": [
    "model = word2vec.KeyedVectors.load_word2vec_format('lemmas.sg.s200.w2v.txt', binary=False )\n",
    "#kasutame mudeli loomiseks eelnevalt treenitud andmeid"
   ]
  },
  {
   "cell_type": "code",
   "execution_count": 8,
   "metadata": {},
   "outputs": [],
   "source": [
    "trad_corpus = ['kuulekas','sõnakuulelik','töökas','ausus',\n",
    "              'püüdlik','sõnakuulekas','hoolas','kuulekus',\n",
    "              'sõnakuulelikkus','austus', 'viisakus','töökus','püüdlikkus',\n",
    "              'korralikkus','usinus','distsipliin','enesedistsipliin',\n",
    "              'austama','vastutustunne','kohusetunne','kohusetundlik',\n",
    "              'austav','sõnakuulekus','lugupidav','respekteeriv',\n",
    "              'hästikasvatatud','sõnapidaja','sõnapidamine',\n",
    "              'kohusetruu','edasipüüdlikkus','korraarmastus',\n",
    "              'korraarmastaja','distsiplineeritus','õppimistahe','andestav',\n",
    "               'abivalmis','abivalmidus','isetu', 'isetus'\n",
    "               ]"
   ]
  },
  {
   "cell_type": "code",
   "execution_count": 5,
   "metadata": {},
   "outputs": [],
   "source": [
    "auton_corpus =['enesekindlus','eneseusaldus','loovus','uudishimulikkus',\n",
    "               'iseseisvus','ettevõtlikkus','eneseteadvus','eesmärgikindlus',\n",
    "               'visadus','järjekindlus','sihikindlus','sitkus','loomingulisus',\n",
    "               'enesekindel','loov','uudishimulik','iseseisev','ettevõtlik',\n",
    "               'eneseteadlik','sihiteadlik','järjekindel','sihikindel',\n",
    "               'teotahteline','tegus','algatusvõimeline','järjekindel',\n",
    "               'loominguline','ambitsioonikas', 'sihiteadlik','saavutusvajadus',\n",
    "               'algatusvõime','otsustamisjulgus','kreatiivne','kreatiivsus',\n",
    "               'teadmisjanuline','edasipüüdlik'\n",
    "               ]"
   ]
  },
  {
   "cell_type": "code",
   "execution_count": 6,
   "metadata": {
    "scrolled": true
   },
   "outputs": [
    {
     "name": "stderr",
     "output_type": "stream",
     "text": [
      "C:\\Users\\Veronika\\Anaconda3\\envs\\minu_keskkond\\lib\\site-packages\\ipykernel_launcher.py:2: DeprecationWarning: Call to deprecated `wv` (Attribute will be removed in 4.0.0, use self instead).\n",
      "  \n"
     ]
    },
    {
     "data": {
      "text/plain": [
       "[('jonnakus', 0.7641672492027283),\n",
       " ('auahnus', 0.7402713298797607),\n",
       " ('riskivalmidus', 0.7321593761444092),\n",
       " ('ambitsioon', 0.7202242612838745),\n",
       " ('toimekus', 0.710821270942688),\n",
       " ('eesmärgikindlus', 0.7022439241409302),\n",
       " ('enesekriitilisus', 0.7011600136756897),\n",
       " ('saavutusvajadus', 0.700654149055481),\n",
       " ('võimuahnus', 0.6974954605102539),\n",
       " ('ausameelsus', 0.6933058500289917)]"
      ]
     },
     "execution_count": 6,
     "metadata": {},
     "output_type": "execute_result"
    }
   ],
   "source": [
    "w1 ='ambitsioonikus'#testime ühe sõnaga, kas sünonüümide otsimine töötab\n",
    "model.wv.most_similar(positive =w1)"
   ]
  },
  {
   "cell_type": "code",
   "execution_count": 9,
   "metadata": {},
   "outputs": [
    {
     "name": "stderr",
     "output_type": "stream",
     "text": [
      "C:\\Users\\Veronika\\Anaconda3\\envs\\minu_keskkond\\lib\\site-packages\\ipykernel_launcher.py:6: DeprecationWarning: Call to deprecated `wv` (Attribute will be removed in 4.0.0, use self instead).\n",
      "  \n"
     ]
    }
   ],
   "source": [
    "from collections import Counter #teeme sõnastiku, kuhu paneme 15 algoritmi \n",
    "from collections import defaultdict #arvates kõige sarnasemat traditsiooniliste\n",
    "synonyymid_trad = defaultdict(list) #kasvastusväärtuse sünonüümi\n",
    "for i in range(len(trad_corpus)):\n",
    "    w1 =trad_corpus[i]\n",
    "    sarnased_sonad = model.wv.most_similar(positive =w1, topn=15)\n",
    "    synonyymid_trad[w1].append(sarnased_sonad)\n",
    "    "
   ]
  },
  {
   "cell_type": "code",
   "execution_count": 10,
   "metadata": {},
   "outputs": [
    {
     "name": "stdout",
     "output_type": "stream",
     "text": [
      "püüdlik [[('sõbramehelik', 0.6497510075569153), ('kohusetruu', 0.6494878530502319), ('püüdlikkus', 0.6378885507583618), ('peenetundeline', 0.629169762134552), ('taktitundeline', 0.6259126663208008), ('hästikasvatatud', 0.625137209892273), ('sõrmejooks', 0.616195559501648), ('suhtlemisvalmis', 0.6129977703094482), ('sõnaosav', 0.6124803423881531), ('püüdlikult', 0.6123614311218262), ('pedantne', 0.6067851781845093), ('iseteadev', 0.6062432527542114), ('bravuurne', 0.6048990488052368), ('kohmakavõitu', 0.6033771634101868), ('häälekool', 0.601421058177948)]]\n",
      "sõnakuulelikkus [[('vagadus', 0.7808021306991577), ('alandlikkus', 0.7720836400985718), ('jumalakartlikkus', 0.7680478096008301), ('omakasupüüdmatus', 0.7617117166519165), ('ausameelsus', 0.7445931434631348), ('vääramatus', 0.7399569749832153), ('tõearmastus', 0.7397699356079102), ('inimarmastus', 0.7393651008605957), ('mõistuslikkus', 0.7368106842041016), ('sõnapidamine', 0.7328954339027405), ('kaastundlikkkus', 0.7315371036529541), ('enesetäiustamine', 0.7307925224304199), ('judeo-kristlik', 0.7294061183929443), ('kasinus', 0.7293184995651245), ('arglikkus', 0.7292078137397766)]]\n",
      "isetus [[('analüütilisus', 0.8662051558494568), ('kaemuslikkus', 0.8589609265327454), ('looduspärane', 0.8543280959129333), ('hingetarkus', 0.8519697189331055), ('üliolend', 0.8497838973999023), ('muusikamõistmine', 0.8496391177177429), ('ladinlik', 0.8482518196105957), ('tonaalharmooniline', 0.8478836417198181), ('vabaolek', 0.8471354246139526), ('kivistumus', 0.8467316627502441), ('elujaatavus', 0.8447866439819336), ('ainelis-energeetiline', 0.844368040561676), ('loojutustus', 0.8436559438705444), ('keelekesksus', 0.8433616161346436), ('kõlataju', 0.8426061868667603)]]\n",
      "austama [[('respekteerima', 0.7775347232818604), ('austamine', 0.7178914546966553), ('austus', 0.6793136596679688), ('austama|austanud', 0.6738407015800476), ('kulupea', 0.6601186394691467), ('tunnustama', 0.6478004455566406), ('austavalt', 0.6212829351425171), ('iseendastmõistetav', 0.6035975813865662), ('austav', 0.598743736743927), ('hoolima', 0.597421407699585), ('mälestama', 0.5954803824424744), ('mitte-juut', 0.5936347842216492), ('autunne', 0.5919650793075562), ('lugupidamisavaldus', 0.5900005102157593), ('lugupidavalt', 0.5897845029830933)]]\n",
      "sõnapidaja [[('põhimõttekindel', 0.7135090827941895), ('enesekindel', 0.7067053318023682), ('sirgeseljaline', 0.6945521831512451), ('meeskonnamängija', 0.6853830218315125), ('otsekohene', 0.6806380748748779), ('vastutustundeline', 0.6788631677627563), ('taktitundeline', 0.6748031377792358), ('jutumees', 0.6735748648643494), ('otsusekindel', 0.6734835505485535), ('kõneosav', 0.6692333221435547), ('huumorimeelne', 0.6690901517868042), ('sõnamurdja', 0.6672183275222778), ('sõduriõnn', 0.666388750076294), ('taktik', 0.6641011238098145), ('võimekas', 0.6636765003204346)]]\n",
      "andestav [[('kõikemõistev', 0.8354110717773438), ('ohvrimeelne', 0.8022769093513489), ('alistuv', 0.7972352504730225), ('kujutlusvõimeline', 0.7955266237258911), ('läbinägev', 0.7926939725875854), ('seltsimehelikkus', 0.7834988832473755), ('seltsimatu', 0.7765655517578125), ('teesklematu', 0.7741736769676208), ('kaastundlikkkus', 0.7731291055679321), ('kalestuma|kalestunud', 0.7731132507324219), ('taktitundeline', 0.7722190022468567), ('ürgjõuline', 0.767872154712677), ('isetu', 0.7672113180160522), ('sangviinik', 0.7667868137359619), ('fanaatilisus', 0.7658652663230896)]]\n",
      "sõnapidamine [[('ausameelsus', 0.8199244737625122), ('põhimõttekindlus', 0.8054726123809814), ('omakasupüüdmatus', 0.8046747446060181), ('kaastundlikkkus', 0.7922646999359131), ('moraalikategooria', 0.7889871597290039), ('talumehelik', 0.7856574654579163), ('ausus', 0.7847166657447815), ('rahvalähedus', 0.7846101522445679), ('äraostmatus', 0.7842007875442505), ('konformsus', 0.7827554941177368), ('asisus', 0.7822136878967285), ('kõikumatus', 0.7765792012214661), ('kaalutletud', 0.7765640020370483), ('mõistuslikkus', 0.77327561378479), ('hingetarkus', 0.7726730704307556)]]\n",
      "kuulekas [[('sõnakuulelik', 0.7068156003952026), ('alandlik', 0.6815067529678345), ('hüpiknukk', 0.6673709154129028), ('karjerist', 0.6626930236816406), ('käsutäitja', 0.6591922044754028), ('käsualune', 0.6550984382629395), ('armastusväärne', 0.6511415243148804), ('ilmeksimatu', 0.6508662700653076), ('orjalik', 0.6495611071586609), ('marionett', 0.640876293182373), ('autokraatne', 0.6405495405197144), ('pugeja', 0.6376389265060425), ('ausameelne', 0.6361826062202454), ('truualamlik', 0.6319659948348999), ('arusaaja', 0.6301470994949341)]]\n",
      "töökus [[('visadus', 0.7594723701477051), ('tööarmastus', 0.7563580274581909), ('korraarmastus', 0.7544043660163879), ('sihikindlus', 0.7486829161643982), ('arukus', 0.7457857728004456), ('töötahe', 0.7436591386795044), ('edasipüüdlikkus', 0.7316630482673645), ('ettevõtlikkus', 0.7224138379096985), ('taiplikkus', 0.7184315323829651), ('nutikus', 0.7090329527854919), ('andekus', 0.706456184387207), ('õppimistahe', 0.7062194347381592), ('teotahe', 0.7056779861450195), ('kohusetundlikkus', 0.7050371170043945), ('distsiplineeritus', 0.7040653228759766)]]\n",
      "sõnakuulelik [[('kuulekas', 0.7068156003952026), ('armastusväärne', 0.7004033923149109), ('hästikasvatatud', 0.6987934112548828), ('ühtehoidev', 0.6910141110420227), ('vastutustundeline', 0.6752287745475769), ('perekonnaisa', 0.6730798482894897), ('meelekindel', 0.6715149283409119), ('arusaaja', 0.6714038848876953), ('kokkuhoidev', 0.6657869815826416), ('riskijulge', 0.6632633209228516), ('algatusvõimeline', 0.6622763276100159), ('hariduslembene', 0.6611478328704834), ('töökas', 0.660467803478241), ('empaatiavõimeline', 0.6597304344177246), ('kodulembene', 0.6590455770492554)]]\n",
      "abivalmidus [[('sõbralikkus', 0.8087436556816101), ('osavõtlikkus', 0.751691997051239), ('heasoovlikkus', 0.7209645509719849), ('tähelepanelikkus', 0.7197279930114746), ('mõistvus', 0.7061089277267456), ('südamlikkus', 0.7002352476119995), ('heasüdamlikkus', 0.6943992376327515), ('hoolivus', 0.6930521726608276), ('südamesoojus', 0.6918427348136902), ('südameheadus', 0.6894026398658752), ('omakasupüüdmatus', 0.6800227165222168), ('hoolimine', 0.6760621070861816), ('kohusetundlikkus', 0.6710642576217651), ('edasipüüdlikkus', 0.6679482460021973), ('rõõmsameelsus', 0.6677025556564331)]]\n",
      "edasipüüdlikkus [[('tööarmastus', 0.8161879181861877), ('eneseaustus', 0.8036796450614929), ('distsiplineeritus', 0.8020511269569397), ('initsiatiivik', 0.79524827003479), ('rahuldumine', 0.7934812307357788), ('domineerivus', 0.792138934135437), ('kohusetundlikkus', 0.7914003729820251), ('seltsivus', 0.787895679473877), ('suhtlemisvalmidus', 0.7857756614685059), ('südameheadus', 0.7815446853637695), ('kompleksivabadus', 0.7815040349960327), ('introvertsus', 0.7806839942932129), ('saavutusvajadus', 0.7789885997772217), ('omakasupüüdmatus', 0.7772579193115234), ('asisus', 0.7769737243652344)]]\n",
      "kohusetruu [[('kohusetundlik', 0.7925417423248291), ('taktitundeline', 0.7295235395431519), ('initsiatiivikas', 0.7250263690948486), ('organiseerimisvõimeline', 0.7209082841873169), ('perekonnaisa', 0.7104769945144653), ('saamatuvõitu', 0.7038601636886597), ('huumorimeelne', 0.7001551389694214), ('õpivõimeline', 0.6965901851654053), ('teokas', 0.6960815787315369), ('algatusvõimeline', 0.6956579089164734), ('tahtekindel', 0.6919940710067749), ('empaatiavõimeline', 0.6865010261535645), ('analüüsivõimeline', 0.6834532022476196), ('inimesetundja', 0.6813653707504272), ('inimestetundja', 0.6812511682510376)]]\n",
      "vastutustunne [[('vastutusvõime', 0.7277135848999023), ('kohusetunne', 0.7205260992050171), ('hoolivus', 0.7029105424880981), ('empaatiavõime', 0.6857279539108276), ('kodanikutunne', 0.6855742931365967), ('tööarmastus', 0.6841424703598022), ('tegutsemistahe', 0.6815115809440613), ('saavutusvajadus', 0.6738498210906982), ('algatusvõime', 0.6724538207054138), ('kodanikujulgus', 0.6703416109085083), ('eneseaustus', 0.6702800393104553), ('edasipüüdlikkus', 0.6697667837142944), ('mõistvus', 0.6696627736091614), ('seaduskuulekus', 0.6688516139984131), ('riskivalmidus', 0.666912317276001)]]\n",
      "austus [[('lugupidamine', 0.8393357992172241), ('respekt', 0.767546534538269), ('kaastunne', 0.68876051902771), ('austama', 0.6793136596679688), ('põlgus', 0.6779183149337769), ('imetlus', 0.6747370958328247), ('tänutunne', 0.6681352257728577), ('tänulikkus', 0.6587307453155518), ('autunne', 0.6544776558876038), ('hoolivus', 0.6457915306091309), ('suuremeelsus', 0.645142138004303), ('lugupidamatus', 0.6383349895477295), ('sõbralikkus', 0.6374493837356567), ('ustavus', 0.6357779502868652), ('heasoovlikkus', 0.6337703466415405)]]\n",
      "korralikkus [[('sirgjoonelisus', 0.71588534116745), ('ausameelsus', 0.6891394257545471), ('punktuaalsus', 0.6882179379463196), ('põhimõttekindlus', 0.6819390654563904), ('pedantsus', 0.6796120405197144), ('tõearmastus', 0.6784604787826538), ('kultuursus', 0.6705589294433594), ('riigitruudus', 0.6669732332229614), ('enesekriitilisus', 0.6658617258071899), ('ausus', 0.6645840406417847), ('rahvalähedus', 0.6638666391372681), ('kokkuhoidlikkus', 0.663480281829834), ('autunne', 0.6625081300735474), ('sümpaatsus', 0.6603291034698486), ('taktitunne', 0.6588988304138184)]]\n",
      "kuulekus [[('kuuletumine', 0.7062277793884277), ('sõnakuulelikkus', 0.6999452114105225), ('ustavus', 0.6658298969268799), ('kaalutletud', 0.6526386737823486), ('distsiplineeritus', 0.6522367596626282), ('edasipüüdlikkus', 0.651256799697876), ('enesedistsipliin', 0.6490828990936279), ('omakasupüüdmatus', 0.6487671136856079), ('sõnapidamine', 0.6474747061729431), ('leplikkus', 0.6471347212791443), ('kannatlikkus', 0.6466672420501709), ('kokkuhoidlikkus', 0.6462134122848511), ('orjalik', 0.643648624420166), ('tööarmastus', 0.6411519050598145), ('üllameelsus', 0.6410434246063232)]]\n",
      "abivalmis [[('vastutulelik', 0.7758637070655823), ('suhtlemisaldis', 0.7331839799880981), ('osavõtlik', 0.7234460115432739), ('sõbralik', 0.7219902873039246), ('arusaaja', 0.7197690010070801), ('huumorimeelne', 0.7149583101272583), ('kohusetundlik', 0.7076695561408997), ('heatahtlik', 0.7034128308296204), ('rõõmsameelne', 0.7006689310073853), ('töökas', 0.7004644274711609), ('lahke', 0.6937509179115295), ('viisakas', 0.6936547756195068), ('seltsiv', 0.6908471584320068), ('külalislahke', 0.6873120665550232), ('armastusväärne', 0.6827839016914368)]]\n",
      "respekteeriv [[('väljanäitamine', 0.7886402010917664), ('rolliootus', 0.7761551141738892), ('endaksjäämine', 0.7708110213279724), ('inimindiviid', 0.767575740814209), ('koosolu', 0.7665141820907593), ('mõttesüsteem', 0.7634605169296265), ('harmoonilisus', 0.7616235017776489), ('õilistumine', 0.759985089302063), ('vastumõtlemine', 0.7590318322181702), ('meie-tema', 0.7587331533432007), ('konfliktilahendus', 0.7579854726791382), ('rolliline', 0.7579388618469238), ('kaugelenägelikkkus', 0.7565743923187256), ('hüperboliseerima|hüperboliseeritud', 0.7560416460037231), ('kantilik', 0.7548041939735413)]]\n",
      "austav [[('väärikas', 0.6138221025466919), ('austusväärne', 0.6052600145339966), ('austama', 0.598743736743927), ('sekitori', 0.5935372114181519), ('hariduslembene', 0.5800731182098389), ('lugupidamisavaldus', 0.5712968707084656), ('väärtustav', 0.5650578141212463), ('hooliv', 0.5620139837265015), ('väärikaim', 0.5612578392028809), ('ühtehoidev', 0.5563068389892578), ('respekteerima', 0.5533256530761719), ('teotama|teotatud', 0.5520631074905396), ('eelarvamustevaba', 0.551917552947998), ('väärikustunne', 0.5514494776725769), ('siiraim', 0.5506253838539124)]]\n",
      "korraarmastaja [[('peenutseja', 0.7988705635070801), ('kodulembene', 0.7970150709152222), ('pedant', 0.794481635093689), ('pabistaja', 0.7851265668869019), ('vanaemalik', 0.7802629470825195), ('provintslikult', 0.7800796031951904), ('hästikasvatatud', 0.7791799306869507), ('flegma', 0.7737071514129639), ('armunud', 0.7735943794250488), ('mühkam', 0.7730005979537964), ('tigedik', 0.7723039388656616), ('verehimuline', 0.7683392763137817), ('nipsakus', 0.767491340637207), ('ilmlõpmata', 0.7674615979194641), ('ürgeestlane', 0.7669454216957092)]]\n",
      "lugupidav [[('ontlik', 0.5770071148872375), ('kultuurne', 0.5713775753974915), ('soliidne', 0.5631465911865234), ('hakkamasaav', 0.5508880615234375), ('vastutustundlik', 0.5459475517272949), ('viisakas', 0.5458751916885376), ('eneseväärikas', 0.5439041256904602), ('seiklusjanuline', 0.5421086549758911), ('sisseseadnud', 0.5409083366394043), ('töörabaja', 0.5388988256454468), ('vastutustundeline', 0.5376535058021545), ('eelarvamustevaba', 0.5359136462211609), ('kombekas', 0.5354598760604858), ('armastav', 0.5348129868507385), ('džentelmenlik', 0.5326929092407227)]]\n",
      "sõnakuulekas [[('suhtlusaldis', 0.7734159231185913), ('kommunaalpoliitik', 0.7682638168334961), ('kohanu', 0.7631105184555054), ('kavaldaja', 0.762275755405426), ('lehmakaupleja', 0.7578690648078918), ('ideaalnägemus', 0.7557239532470703), ('karjääriteadlik', 0.7556756734848022), ('hiireema', 0.7554233074188232), ('noorvanake', 0.7536060214042664), ('segadusseajavalt', 0.7534632682800293), ('ülereaktsioon', 0.7524000406265259), ('maffialugu', 0.7523528337478638), ('väljapressiv', 0.7513555288314819), ('ülilojaalne', 0.7511997222900391), ('liisupoiss', 0.7509673833847046)]]\n",
      "ausus [[('sõnapidamine', 0.7847166657447815), ('põhimõttekindlus', 0.7258960008621216), ('omakasupüüdmatus', 0.7257239818572998), ('äraostmatus', 0.7224265933036804), ('eetilisus', 0.7205447554588318), ('arukus', 0.7200562953948975), ('hoolivus', 0.7096577882766724), ('ausameelsus', 0.7026993036270142), ('kohusetunne', 0.6992237567901611), ('inimlikkus', 0.690092146396637), ('rahvalähedus', 0.6876527667045593), ('kaastundlikkkus', 0.6846110224723816), ('tõearmastus', 0.6829577684402466), ('sirgjoonelisus', 0.6792651414871216), ('tasakaalukus', 0.6749646663665771)]]\n",
      "isetu [[('ürgjõuline', 0.8246756792068481), ('vahenditus', 0.8220211267471313), ('lihalikult', 0.8124988079071045), ('koketeerimine', 0.8070956468582153), ('ülemaine', 0.8063953518867493), ('omandiinstinkt', 0.8017274737358093), ('õilistav', 0.7985498905181885), ('lähedustunne', 0.7978220582008362), ('eneseavamine', 0.7973119020462036), ('esilemanamine', 0.7970932722091675), ('eluusk', 0.7961519956588745), ('ihalemine', 0.7933584451675415), ('eraklikkus', 0.7897608280181885), ('eleegilisus', 0.788617730140686), ('enesetäiustamine', 0.7869938611984253)]]\n",
      "distsipliin [[('enesedistsipliin', 0.6559917330741882), ('suhtlemiskultuur', 0.6417776942253113), ('kaalutletud', 0.6156864166259766), ('sisekord', 0.6121717691421509), ('kollegiaalsus', 0.609508752822876), ('käitumisnorm', 0.6085083484649658), ('isamaaarmastus', 0.6071429252624512), ('drill', 0.6049182415008545), ('õpetamisoskus', 0.6042132377624512), ('reglementeeritus', 0.6005752086639404), ('kaadrivalik', 0.5987383127212524), ('üldtehniline', 0.5983812808990479), ('liiklusviisakus', 0.5976375937461853), ('ainekeskne', 0.5942299365997314), ('sõnakuulelikkus', 0.5941848754882812)]]\n",
      "distsiplineeritus [[('kompleksivabadus', 0.8272199034690857), ('enesekriitilisus', 0.8153132200241089), ('sümpaatsus', 0.802419900894165), ('edasipüüdlikkus', 0.8020511269569397), ('eesmärgikindlus', 0.8000583648681641), ('kaalutletud', 0.7922684550285339), ('domineerivus', 0.7908892631530762), ('taiplikkus', 0.7896838188171387), ('veenmisvõime', 0.7893380522727966), ('kaugelenägelikkkus', 0.7876535058021545), ('keskendumisoskus', 0.7868083119392395), ('distsipliinitunne', 0.7852282524108887), ('võistluslikkus', 0.7833306789398193), ('hingesuurus', 0.7832584381103516), ('enesetundmine', 0.7825829386711121)]]\n",
      "töökas [[('teotahteline', 0.7439746260643005), ('edasipüüdlik', 0.7229406237602234), ('kohusetundlik', 0.7146096229553223), ('algatusvõimeline', 0.7114162445068359), ('huumorimeelne', 0.7094416618347168), ('abivalmis', 0.7004644274711609), ('õpihimuline', 0.6974897980690002), ('ühtehoidev', 0.6917949318885803), ('õppimisvõimeline', 0.6916632652282715), ('virk', 0.6887400150299072), ('arenemisvõimeline', 0.6878300905227661), ('tubli', 0.6825687885284424), ('tragi', 0.6736176609992981), ('organiseerimisvõimeline', 0.6735935807228088), ('teokas', 0.6732980608940125)]]\n",
      "püüdlikkus [[('distsiplineeritus', 0.7053186893463135), ('innukus', 0.7045445442199707), ('taktitunne', 0.6994638442993164), ('energilisus', 0.6974444389343262), ('vaimuteravus', 0.6890432834625244), ('kompleksivabadus', 0.6861237287521362), ('enesekriitilisus', 0.6838010549545288), ('taibukus', 0.6799392700195312), ('kohusetundlikkus', 0.674898087978363), ('kadestamisväärt', 0.6725637912750244), ('ennastületav', 0.6712306141853333), ('seltskondlikkus', 0.6711747646331787), ('õlalepatsutus', 0.670323371887207), ('suhtlusoskus', 0.6696781516075134), ('eneseohverdamine', 0.6691380739212036)]]\n",
      "õppimistahe [[('suhtlemisjulgus', 0.8228338956832886), ('keskendumisoskus', 0.8132284879684448), ('suhtlemisvõime', 0.8095614314079285), ('enesetundmine', 0.801868200302124), ('tööarmastus', 0.7993072271347046), ('liidriomadus', 0.7968236804008484), ('koostööoskus', 0.7880573272705078), ('analüüsioskus', 0.7820495367050171), ('õpimotivatsioon', 0.7808353900909424), ('töötahe', 0.7792723774909973), ('kutsekindlus', 0.7789679169654846), ('arenguvõime', 0.7782381772994995), ('arenemisvõime', 0.7780706882476807), ('õppimisharjumus', 0.7766757011413574), ('käitumisoskus', 0.7757374048233032)]]\n",
      "korraarmastus [[('tööarmastus', 0.7556954622268677), ('töökus', 0.7544043660163879), ('sirgeselgsus', 0.7367497086524963), ('edasipüüdlikkus', 0.7343405485153198), ('isamaa-armastus', 0.7341564297676086), ('distsiplineeritus', 0.7337283492088318), ('kokkuhoidlikkus', 0.7256871461868286), ('õppimistahe', 0.72398841381073), ('enesekriitilisus', 0.7219974994659424), ('autunne', 0.7197040319442749), ('keevalisus', 0.7131438255310059), ('sirgjoonelisus', 0.7125453948974609), ('elujulgus', 0.7107470035552979), ('allaheitlikkus', 0.7090392708778381), ('üllameelsus', 0.7074577212333679)]]\n",
      "sõnakuulekus [[('reakommunist', 0.8730669617652893), ('õigekeelsuslane', 0.8598678112030029), ('reformism', 0.8598096370697021), ('timukraatia', 0.8596675992012024), ('vihatav', 0.8587052822113037), ('lõunarahvas', 0.8582961559295654), ('mõtlemisvõimetus', 0.8578813076019287), ('vannutus', 0.8559303283691406), ('kättemaksev', 0.854357123374939), ('koostöömeel', 0.8542006611824036), ('kohusetruudus', 0.8538107872009277), ('televisioonimaastik', 0.8523705005645752), ('usust', 0.8507541418075562), ('dorat', 0.8506944179534912), ('estradal', 0.8504430055618286)]]\n",
      "viisakus [[('taktitunne', 0.7044748067855835), ('sõbralikkus', 0.6949946880340576), ('viisakas', 0.6912881135940552), ('ebaviisakus', 0.6909258365631104), ('viisakusavaldus', 0.6869944334030151), ('asjalikkus', 0.682761549949646), ('õlalepatsutamine', 0.6632224321365356), ('mõõdutunne', 0.6567986011505127), ('tagasihoidlikkus', 0.6464167833328247), ('kohusetruudus', 0.6460632085800171), ('ülbus', 0.6450605392456055), ('pealetükkivus', 0.642198383808136), ('viisakusreegel', 0.6418918967247009), ('korralikkus', 0.6399575471878052), ('üleolevus', 0.6386020183563232)]]\n",
      "usinus [[('tublidus', 0.6737412214279175), ('visadus', 0.6684575080871582), ('püüdlikkus', 0.6638554930686951), ('kokkuhoidlikkus', 0.660423755645752), ('innukus', 0.6594304442405701), ('töökus', 0.6525747776031494), ('tööarmastus', 0.6512181162834167), ('südikus', 0.6509007215499878), ('tahtekindlus', 0.6508337259292603), ('ennastsalgavus', 0.6471834778785706), ('asjatundlikkus', 0.6463310718536377), ('asjalikkus', 0.6319539546966553), ('ohvrimeelsus', 0.6316007971763611), ('sihikindlus', 0.6279369592666626), ('kohusetundlikkus', 0.6277738809585571)]]\n",
      "enesedistsipliin [[('keskendumisoskus', 0.751067042350769), ('tööarmastus', 0.7418015599250793), ('kohusetundlikkus', 0.7340527176856995), ('tasakaalutunne', 0.7334736585617065), ('analüüsioskus', 0.733295202255249), ('edasipüüdlikkus', 0.7321115732192993), ('õppimistahe', 0.7299695611000061), ('eesmärgikindlus', 0.7282429933547974), ('distsiplineeritus', 0.7187750339508057), ('saavutusvajadus', 0.7182357907295227), ('distsipliinitunne', 0.7160664796829224), ('tahtekindlus', 0.7158417701721191), ('koostööoskus', 0.715190589427948), ('karastatus', 0.7135324478149414), ('enesekriitilisus', 0.7134902477264404)]]\n",
      "hästikasvatatud [[('huumorimeelne', 0.8276017308235168), ('naeruhimuline', 0.8237341642379761), ('seltsiv', 0.8046042919158936), ('flegmaatik', 0.7928836345672607), ('armastusväärne', 0.789373517036438), ('taktitundeline', 0.7867337465286255), ('sõbramehelik', 0.7832151651382446), ('emalikult', 0.7813323736190796), ('suhtlemisvalmis', 0.780948281288147), ('korraarmastaja', 0.7791799306869507), ('loomult', 0.7784342765808105), ('šarmantne', 0.7783893346786499), ('valgejuukseline', 0.7753762006759644), ('heasüdamlik', 0.7749173641204834), ('kombekas', 0.7748774290084839)]]\n",
      "kohusetundlik [[('kohusetruu', 0.7925417423248291), ('töökas', 0.7146096229553223), ('abivalmis', 0.7076695561408997), ('algatusvõimeline', 0.7058771848678589), ('organiseerimisvõimeline', 0.6942216753959656), ('arusaaja', 0.6883916258811951), ('analüüsivõimeline', 0.6805475950241089), ('tasakaalukas', 0.6754243969917297), ('erudeeritud', 0.6648102402687073), ('sõnapidaja', 0.6635271310806274), ('heasüdamlik', 0.6599568724632263), ('õppimisvõimeline', 0.6569956541061401), ('huumorimeelne', 0.6538357734680176), ('initsiatiivikas', 0.6537498235702515), ('taktitundeline', 0.6525434255599976)]]\n",
      "kohusetunne [[('tööarmastus', 0.7278768420219421), ('vastutustunne', 0.7205260992050171), ('edasipüüdlikkus', 0.7122420072555542), ('ausus', 0.6992236971855164), ('distsiplineeritus', 0.6979495286941528), ('kaalutletud', 0.6979236602783203), ('sõnapidamine', 0.6977274417877197), ('sirgeselgsus', 0.6950540542602539), ('ligimesearmastus', 0.6948000192642212), ('autunne', 0.694560706615448), ('kodanikutunne', 0.6927143335342407), ('enesedistsipliin', 0.6881526708602905), ('kohusetundlikkus', 0.6874376535415649), ('hoolivus', 0.6863104701042175), ('korraarmastus', 0.6859915852546692)]]\n",
      "hoolas [[('hoolikas', 0.7320083975791931), ('usin', 0.633264422416687), ('tähelepanelik', 0.6207482218742371), ('hoolsam', 0.612977147102356), ('lohakas', 0.5923343300819397), ('kannatlik', 0.5919464826583862), ('hoolsalt', 0.5769989490509033), ('kohusetundlik', 0.5747084617614746), ('osav', 0.568515419960022), ('hoolikam', 0.5645886659622192), ('taibukas', 0.5627661943435669), ('perenaisekäsi', 0.5603042840957642), ('oskuslik', 0.5585124492645264), ('taiplik', 0.5580463409423828), ('pedantne', 0.5481049418449402)]]\n"
     ]
    }
   ],
   "source": [
    "for k,v in synonyymid_trad.items():#prindime tulemused ekraanile\n",
    "    print(k,v)"
   ]
  },
  {
   "cell_type": "code",
   "execution_count": 12,
   "metadata": {},
   "outputs": [
    {
     "name": "stderr",
     "output_type": "stream",
     "text": [
      "C:\\Users\\Veronika\\Anaconda3\\envs\\minu_keskkond\\lib\\site-packages\\ipykernel_launcher.py:4: DeprecationWarning: Call to deprecated `wv` (Attribute will be removed in 4.0.0, use self instead).\n",
      "  after removing the cwd from sys.path.\n"
     ]
    }
   ],
   "source": [
    "synonyymid_auton = defaultdict(list)#otsime sünonüüme autonoomsetele\n",
    "for i in range(len(auton_corpus)): #kasvatusväärtustele\n",
    "    w1 =auton_corpus[i]\n",
    "    sarnased_sonad = model.wv.most_similar(positive =w1, topn=15)\n",
    "    synonyymid_auton[w1].append(sarnased_sonad)"
   ]
  },
  {
   "cell_type": "code",
   "execution_count": 13,
   "metadata": {},
   "outputs": [
    {
     "name": "stdout",
     "output_type": "stream",
     "text": [
      "enesekindlus [[('eneseusk', 0.8402777910232544), ('eneseusaldus', 0.7336113452911377), ('võidutahe', 0.7105271220207214), ('julgus', 0.706110954284668), ('tegutsemistahe', 0.675993800163269), ('tahtejõud', 0.6743941903114319), ('vaimujõud', 0.6741499304771423), ('tahtekindlus', 0.6732355356216431), ('võitluslikkus', 0.6667382717132568), ('sitkus', 0.6641075611114502), ('võitlusvaim', 0.6624627709388733), ('südikus', 0.6619654893875122), ('võiduiha', 0.6609312295913696), ('optimism', 0.6607708930969238), ('enesevalitsemine', 0.6589502096176147)]]\n",
      "teotahteline [[('algatusvõimeline', 0.7878783345222473), ('tegus', 0.753150463104248), ('töökas', 0.7439746260643005), ('arenemisvõimeline', 0.7430983781814575), ('töötahteline', 0.7429224252700806), ('ühtehoidev', 0.7198648452758789), ('pealehakkaja', 0.7161717414855957), ('võimekas', 0.7068313360214233), ('arenguvõimeline', 0.7046225070953369), ('huumorimeelne', 0.6977673768997192), ('organiseerimisvõimeline', 0.6950855851173401), ('õppimisvõimeline', 0.6947522759437561), ('edasipüüdlik', 0.6928584575653076), ('initsiatiivikai', 0.6887444257736206), ('spordilembeline', 0.6876756548881531)]]\n",
      "järjekindel [[('sihikindel', 0.7706655263900757), ('järjepidev', 0.6944922208786011), ('sihiteadlik', 0.6864652633666992), ('eesmärgikindel', 0.6576792001724243), ('kavakindel', 0.6556901931762695), ('kindlameelne', 0.6502293348312378), ('tasakaalukas', 0.6431522369384766), ('sirgjooneline', 0.6418437361717224), ('eelarvamustevaba', 0.6353368163108826), ('jäärapäine', 0.634080171585083), ('kompromissialdis', 0.6281702518463135), ('järjekindlus', 0.6274228096008301), ('põhimõttekindel', 0.627257227897644), ('järeleandlik', 0.6226473450660706), ('otsusekindel', 0.6201393604278564)], [('sihikindel', 0.7706655263900757), ('järjepidev', 0.6944922208786011), ('sihiteadlik', 0.6864652633666992), ('eesmärgikindel', 0.6576792001724243), ('kavakindel', 0.6556901931762695), ('kindlameelne', 0.6502293348312378), ('tasakaalukas', 0.6431522369384766), ('sirgjooneline', 0.6418437361717224), ('eelarvamustevaba', 0.6353368163108826), ('jäärapäine', 0.634080171585083), ('kompromissialdis', 0.6281702518463135), ('järjekindlus', 0.6274228096008301), ('põhimõttekindel', 0.627257227897644), ('järeleandlik', 0.6226473450660706), ('otsusekindel', 0.6201393604278564)]]\n",
      "algatusvõimeline [[('initsiatiivikai', 0.8251849412918091), ('õpivõimeline', 0.8188891410827637), ('töötahteline', 0.8149629235267639), ('organiseerimisvõimeline', 0.806463360786438), ('analüüsivõimeline', 0.8026890754699707), ('õppimisvõimeline', 0.7938015460968018), ('empaatiavõimeline', 0.7911339998245239), ('teotahteline', 0.7878783941268921), ('õppimishimuline', 0.7859872579574585), ('ideerikas', 0.7768566608428955), ('eesmärgikindel', 0.770726203918457), ('arenemisvõimeline', 0.7703723907470703), ('arenemishimuline', 0.7658545970916748), ('tegutsemisjulgus', 0.7651252746582031), ('spordilembeline', 0.7567434906959534)]]\n",
      "kreatiivsus [[('dialoogilisus', 0.7589595913887024), ('huvitavus', 0.7571468353271484), ('tunnetusteooria', 0.7562259435653687), ('lihtsustatus', 0.7537728548049927), ('kunstilisus', 0.747198224067688), ('võistluslikkus', 0.7449980974197388), ('õilistumine', 0.744132399559021), ('innovaatilisus', 0.7401222586631775), ('vabamäng', 0.7358194589614868), ('isikupärasus', 0.7320437431335449), ('lastepärasus', 0.7298415899276733), ('väärtustatav', 0.7297018766403198), ('üllatuslikkus', 0.7285044193267822), ('kontekstuaalsus', 0.7281553745269775), ('analüütilisus', 0.7273260354995728)]]\n",
      "iseseisev [[('rippumatu', 0.6684243679046631), ('eraldiseisev', 0.6355432868003845), ('iseseisvalt', 0.6098748445510864), ('iseseisvus', 0.6014540195465088), ('iseseisvas', 0.5963759422302246), ('vastutusvõimeline', 0.596123456954956), ('iseseisev|iseseisvate', 0.5909344553947449), ('kaitsevõimeline', 0.5908689498901367), ('organisatsiooniliselt', 0.5903100967407227), ('kontinuiteet', 0.5861680507659912), ('rahvakirik', 0.5860027074813843), ('mittetulun-dusühing', 0.5845065116882324), ('multietniline', 0.5830625295639038), ('insenerikoda', 0.5830445289611816), ('kiirreageerimisvõimekus', 0.5819602012634277)]]\n",
      "loominguline [[('kunstiline', 0.6531625986099243), ('tantsulooming', 0.6514291763305664), ('loov', 0.6486481428146362), ('teatrisisene', 0.6321710348129272), ('muusikaline', 0.6185518503189087), ('kreatiivne', 0.6134079098701477), ('muusikategemine', 0.6117141246795654), ('loometöö', 0.6084285974502563), ('eneseväljendusvõimalus', 0.606795072555542), ('loomeenergia', 0.6058224439620972), ('lavakunstnik', 0.6043004989624023), ('loominguprotsess', 0.6022633910179138), ('ühiskonnatundlik', 0.5965820550918579), ('skke', 0.5941606163978577), ('kaasamõtlemine', 0.5915985107421875)]]\n",
      "edasipüüdlik [[('edasipürgiv', 0.7704662084579468), ('algatusvõimeline', 0.7451512813568115), ('õpihimuline', 0.7445087432861328), ('arenemisvõimeline', 0.7293521761894226), ('õppimishimuline', 0.7266215085983276), ('töökas', 0.7229406237602234), ('õpivõimeline', 0.7226478457450867), ('huumorimeelne', 0.7096978425979614), ('õppimisvõimeline', 0.7019857168197632), ('teadmishimuline', 0.694124698638916), ('teotahteline', 0.6928584575653076), ('empaatiavõimeline', 0.6914961338043213), ('kohanemisvõimeline', 0.6902192831039429), ('ühtehoidev', 0.6898407936096191), ('spordilembeline', 0.6839654445648193)]]\n",
      "uudishimulikkus [[('elujaatavus', 0.8335663676261902), ('loojatüüp', 0.8284518122673035), ('puhtsüdamlikkus', 0.8240406513214111), ('egotsentrilisus', 0.8233569264411926), ('dogmaatilisus', 0.8218547701835632), ('hingetarkus', 0.8150384426116943), ('inimestetundmine', 0.8134526014328003), ('kõikeületav', 0.8110369443893433), ('armastusvõime', 0.8108842372894287), ('idiosünkraatiline', 0.8096119165420532), ('kohusetruudus', 0.8085722327232361), ('autorihoiak', 0.8083890676498413), ('seltsivus', 0.8047650456428528), ('sügavmõttelisus', 0.8033088445663452), ('aristokratism', 0.8027377724647522)]]\n",
      "uudishimulik [[('uudistaja', 0.7130508422851562), ('uudishimulikult', 0.6877910494804382), ('uudistav', 0.6745314598083496), ('teadmisjanuline', 0.6596331596374512), ('pelglik', 0.6571341156959534), ('altkulmupilk', 0.6454706788063049), ('möödakõndija', 0.6448487043380737), ('vaikkus', 0.642842710018158), ('piiluja', 0.6422291994094849), ('harduma|hardunud', 0.6371948719024658), ('sebiv', 0.6338462233543396), ('uurivalt', 0.6302668452262878), ('möödajalutaja', 0.6301162838935852), ('imestav', 0.6290761232376099), ('tõuklev', 0.6285237073898315)]]\n",
      "järjekindlus [[('visadus', 0.6883292198181152), ('põhimõttekindlus', 0.651209831237793), ('kindlameelsus', 0.6456891298294067), ('kompromissitus', 0.640188455581665), ('printsipiaalsus', 0.6353163719177246), ('järjekindel', 0.6274228096008301), ('sihikindlus', 0.6236167550086975), ('tahtekindlus', 0.6143820285797119), ('kompleksivabadus', 0.6119180917739868), ('tasakaalukus', 0.6062335968017578), ('söakus', 0.605516791343689), ('sirgjoonelisus', 0.6049853563308716), ('kollegiaalsus', 0.6027743816375732), ('arukus', 0.5999497175216675), ('jäärapäisus', 0.5998332500457764)]]\n",
      "saavutusvajadus [[('edasipüüdlikkus', 0.7789885401725769), ('tahteomadus', 0.7739319801330566), ('riskivalmidus', 0.7739287614822388), ('toimetulekuvilumus', 0.7729276418685913), ('eneseaustus', 0.7705346345901489), ('õppimistahe', 0.7682678699493408), ('distsiplineeritus', 0.7668692469596863), ('stressitaluvus', 0.7656430602073669), ('tunnustusevajadus', 0.7651052474975586), ('neurootilisus', 0.76507568359375), ('rahuldatus', 0.7632611989974976), ('karjäärihimu', 0.7618722915649414), ('domineerivus', 0.760988712310791), ('suhtlemisvõime', 0.7601228952407837), ('enesekriitilisus', 0.7600966691970825)]]\n",
      "sihikindlus [[('tahtekindlus', 0.7804639339447021), ('visadus', 0.7668060064315796), ('töökus', 0.748682975769043), ('tasakaalukus', 0.742108941078186), ('tööarmastus', 0.7376289367675781), ('eesmärgikindlus', 0.7347742915153503), ('töötahe', 0.7286129593849182), ('kindlameelsus', 0.7254454493522644), ('tegutsemistahe', 0.7252341508865356), ('kompleksivabadus', 0.713591456413269), ('riskijulgus', 0.7107141613960266), ('põhimõttekindlus', 0.7104586362838745), ('distsiplineeritus', 0.7082240581512451), ('erudeeritus', 0.707686722278595), ('mehisus', 0.7070689797401428)]]\n",
      "sitkus [[('südikus', 0.7304559946060181), ('tahtekindlus', 0.7292405962944031), ('vaimujõud', 0.7290893793106079), ('võidutahe', 0.7285512685775757), ('särtsakus', 0.7181773781776428), ('erksus', 0.7172695398330688), ('töötahe', 0.7151261568069458), ('tahtejõud', 0.7134784460067749), ('võitlejahing', 0.7130248546600342), ('plahvatuslikkus', 0.7119617462158203), ('visadus', 0.7097912430763245), ('võitlustahe', 0.7036789655685425), ('võistlusnärv', 0.7035835981369019), ('ihuramm', 0.7017462253570557), ('atleetlikkus', 0.7008720636367798)]]\n",
      "loomingulisus [[('loovus', 0.7941327095031738), ('keskendumisoskus', 0.7372401356697083), ('taibukus', 0.73408442735672), ('enesekriitilisus', 0.7330427169799805), ('analüüsioskus', 0.7324469089508057), ('spontaansus', 0.7279880046844482), ('leidlikkus', 0.7276085615158081), ('distsiplineeritus', 0.7231519222259521), ('esinemisjulgus', 0.718977153301239), ('üllatuslikkus', 0.7178233861923218), ('mõtteerksus', 0.717719554901123), ('isemõtlemine', 0.717558741569519), ('kompleksivabadus', 0.7168292999267578), ('energilisus', 0.7124580144882202), ('vaimuteravus', 0.7081491351127625)]]\n",
      "eesmärgikindlus [[('kompleksivabadus', 0.8402128219604492), ('enesekriitilisus', 0.8215211629867554), ('veenmisvõime', 0.812890887260437), ('tasakaalutunne', 0.809771716594696), ('inimestetundmine', 0.8081146478652954), ('kaalutletud', 0.8078011274337769), ('üldistusoskus', 0.8022686839103699), ('distsiplineeritus', 0.8000583648681641), ('kadestamisväärt', 0.7981749773025513), ('hingesuurus', 0.797320544719696), ('tahtekindlus', 0.792472243309021), ('üllameelsus', 0.7915772199630737), ('eritlusvõime', 0.7889939546585083), ('mõtteerksus', 0.7875584959983826), ('vargamäelik', 0.7866268157958984)]]\n",
      "teadmisjanuline [[('hakkamasaav', 0.8492430448532104), ('igapäevateema', 0.8418827056884766), ('külamoor', 0.8357644081115723), ('manipuleeritavam', 0.833382248878479), ('jumalasarnane', 0.8315356969833374), ('ligipääsematu', 0.8313294649124146), ('ligimesearmastaja', 0.8305351138114929), ('muusikaspets', 0.8303678631782532), ('seanahavedaja', 0.8293895125389099), ('kunstitarbija', 0.8287608623504639), ('märkaja', 0.8278689384460449), ('tõemeelne', 0.8277155160903931), ('välismail', 0.8264930248260498), ('peidusolev', 0.8260058760643005), ('kunstiks', 0.8258558511734009)]]\n",
      "ettevõtlik [[('hakkaja', 0.6845651865005493), ('tegus', 0.6799606084823608), ('algatusvõimeline', 0.6676394939422607), ('teotahteline', 0.6646586060523987), ('positsioonikas', 0.6524010896682739), ('edasipürgiv', 0.6487452983856201), ('kultuurilembene', 0.6402684450149536), ('õpihimuline', 0.6399499177932739), ('edasipüüdlik', 0.6399281024932861), ('arenemisvõimeline', 0.6363705992698669), ('tarmukas', 0.6360571980476379), ('kunstilembene', 0.6318693161010742), ('initsiatiivikai', 0.6309383511543274), ('õpivõimeline', 0.6304814219474792), ('spordilembeline', 0.6252411603927612)]]\n",
      "sihiteadlik [[('sihikindel', 0.7311626672744751), ('omakasuline', 0.7212858200073242), ('karistusaparaat', 0.7196889519691467), ('mahasalgamine', 0.7016739845275879), ('omapoiss', 0.6899421215057373), ('õigustaja', 0.6886866688728333), ('järjekindel', 0.6864652633666992), ('parasiitlus', 0.6862878799438477), ('ühiskonnavastane', 0.6852481365203857), ('konfliktilahendus', 0.6818404793739319), ('eesmärgistamine', 0.6811829805374146), ('omahuvi', 0.679503321647644), ('eneseõigustamine', 0.67742919921875), ('kahjurlus', 0.6769031882286072), ('instrumentaliseerimine', 0.6763078570365906)], [('sihikindel', 0.7311626672744751), ('omakasuline', 0.7212858200073242), ('karistusaparaat', 0.7196889519691467), ('mahasalgamine', 0.7016739845275879), ('omapoiss', 0.6899421215057373), ('õigustaja', 0.6886866688728333), ('järjekindel', 0.6864652633666992), ('parasiitlus', 0.6862878799438477), ('ühiskonnavastane', 0.6852481365203857), ('konfliktilahendus', 0.6818404793739319), ('eesmärgistamine', 0.6811829805374146), ('omahuvi', 0.679503321647644), ('eneseõigustamine', 0.67742919921875), ('kahjurlus', 0.6769031882286072), ('instrumentaliseerimine', 0.6763078570365906)]]\n",
      "ettevõtlikkus [[('algatusvõime', 0.7637141942977905), ('töökus', 0.722413957118988), ('teotahe', 0.7169125080108643), ('töötahe', 0.7042229771614075), ('riskijulgus', 0.691232442855835), ('initsiatiivik', 0.6901218891143799), ('tegutsemistahe', 0.6833552122116089), ('õppimistahe', 0.6810071468353271), ('tegutsemisjulgus', 0.6737797856330872), ('loovus', 0.6724731922149658), ('kodanikutunne', 0.6720328330993652), ('loomingulisus', 0.6660075187683105), ('pealehakkamine', 0.6659673452377319), ('kodanikuaktiivsus', 0.665899395942688), ('sihikindlus', 0.6596601605415344)]]\n",
      "iseseisvus [[('omariiklus', 0.8265342712402344), ('iseseisvumine', 0.783394992351532), ('iseolemine', 0.7524440884590149), ('rippumatus', 0.7518954277038574), ('kättevõitmine', 0.7418949604034424), ('suveräänsus', 0.7349720597267151), ('enesemääramine', 0.7287169098854065), ('riiklus', 0.7132749557495117), ('autonoomia', 0.6900989413261414), ('suveräniteet', 0.6882539987564087), ('enesemääramisõigus', 0.6746137142181396), ('iseseisvusliikumine', 0.6734126806259155), ('kaitsesõda', 0.6717707514762878), ('rahvusriik', 0.6714885830879211), ('vabadustahe', 0.6708709001541138)]]\n",
      "loov [[('loovus', 0.7226525545120239), ('kreatiivne', 0.7008314728736877), ('stambivaba', 0.6707773208618164), ('enesemõistmine', 0.6564398407936096), ('ülesehitav', 0.6549307107925415), ('väärtustav', 0.6519444584846497), ('loominguline', 0.6486481428146362), ('loomingulisus', 0.6459221243858337), ('progressiusk', 0.6323267817497253), ('eneseväljendusvõimalus', 0.6319583654403687), ('iseväärtuslik', 0.6317136287689209), ('initsiatiivikai', 0.6309710741043091), ('loomuomaselt', 0.6293092966079712), ('iseorganiseerumine', 0.6286489963531494), ('kõrgprofessionaalne', 0.6285887956619263)]]\n",
      "tegus [[('teotahteline', 0.753150463104248), ('algatusvõimeline', 0.7322693467140198), ('teovõimas', 0.7180256843566895), ('töötahteline', 0.7048950791358948), ('toimekas', 0.6980605125427246), ('arenemisvõimeline', 0.6978052854537964), ('initsiatiivikai', 0.6927233338356018), ('tarmukas', 0.6814035773277283), ('ettevõtlik', 0.6799606084823608), ('teokas', 0.6747125387191772), ('töökas', 0.6648839712142944), ('energiline', 0.6646550893783569), ('võimekas', 0.6589749455451965), ('edasipüüdlik', 0.6555294990539551), ('vastutustundeline', 0.6533845663070679)]]\n",
      "visadus [[('sihikindlus', 0.7668060064315796), ('töökus', 0.7594723701477051), ('tahtekindlus', 0.7397500872612), ('kindlameelsus', 0.7149913311004639), ('sitkus', 0.7097912430763245), ('jonnakus', 0.7052115201950073), ('südikus', 0.7024325728416443), ('tublidus', 0.6910467147827148), ('nutikus', 0.6891683340072632), ('järjekindlus', 0.6883292198181152), ('tasakaalukus', 0.6854724287986755), ('leidlikkus', 0.6815133690834045), ('korraarmastus', 0.6775376796722412), ('arukus', 0.6759899854660034), ('tarmukus', 0.6740556955337524)]]\n",
      "algatusvõime [[('initsiatiivik', 0.8147140741348267), ('juhivõime', 0.7858543395996094), ('suhtlemisjulgus', 0.7735588550567627), ('õppimistahe', 0.7665295600891113), ('koostööoskus', 0.7660022974014282), ('ettevõtlikkus', 0.7637141346931458), ('vastutustundlikkus', 0.7592926621437073), ('analüüsioskus', 0.7519041895866394), ('tegutsemistahe', 0.7494994401931763), ('organiseerimisvõime', 0.7445908784866333), ('analüüsivõime', 0.7442585825920105), ('riskijulgus', 0.7414066791534424), ('tööarmastus', 0.7411577701568604), ('tegutsemisjulgus', 0.7383846044540405), ('suhtlemisvõime', 0.7361643314361572)]]\n",
      "ambitsioonikas [[('auahne', 0.7257270216941833), ('kõrgelennuline', 0.617580235004425), ('visioon', 0.596403956413269), ('lennukas', 0.5950164794921875), ('kaugelenägelik', 0.580115556716919), ('ebarealistlik', 0.5736395120620728), ('avantüristlik', 0.5714854001998901), ('võimuahne', 0.5677255988121033), ('läbilöögivõimeline', 0.5654942393302917), ('laiahaardeline', 0.5630521774291992), ('nutikas', 0.5622613430023193), ('soolomängija', 0.5612346529960632), ('teovõimas', 0.561054527759552), ('võimukas', 0.557347297668457), ('ambitsioon', 0.5562236309051514)]]\n",
      "sihikindel [[('järjekindel', 0.7706655263900757), ('sihiteadlik', 0.7311626672744751), ('eesmärgikindel', 0.6693267822265625), ('tahtekindel', 0.6531776189804077), ('ennastsalgav', 0.641759991645813), ('algatusvõimeline', 0.6336355209350586), ('arenguvõimeline', 0.6322596073150635), ('järjepidev', 0.6314107179641724), ('töökas', 0.630131721496582), ('energiline', 0.6214988231658936), ('kohusetruu', 0.6176367998123169), ('meelekindel', 0.6136988401412964), ('tahtejõuline', 0.6103200912475586), ('teokas', 0.6030719876289368), ('ohvrimeelne', 0.6019616723060608)]]\n",
      "eneseusaldus [[('tegutsemistahe', 0.7677010297775269), ('eneseaustus', 0.7620937824249268), ('õpivõime', 0.7396004796028137), ('kindlusetunne', 0.7381970882415771), ('eneseteadlikkus', 0.7379865646362305), ('eneseusk', 0.7373050451278687), ('tööarmastus', 0.7368361353874207), ('loomevõime', 0.7368102669715881), ('enesekindlus', 0.7336114048957825), ('elujulgus', 0.7317504286766052), ('teotahe', 0.7310039401054382), ('tahtekindlus', 0.7303779125213623), ('keskendumisoskus', 0.7292302846908569), ('eduelamus', 0.7263462543487549), ('enesekriitilisus', 0.7254998683929443)]]\n",
      "eneseteadlik [[('iseteadev', 0.7850431203842163), ('egotsentriline', 0.736261248588562), ('tahtekindel', 0.7287886142730713), ('empaatiline', 0.7270225286483765), ('konsumeristlik', 0.7244423031806946), ('introvertne', 0.7227070331573486), ('üdin|üdini', 0.7222270965576172), ('riskijulge', 0.7169145345687866), ('ohvrimeelne', 0.7160471677780151), ('edasipürgiv', 0.7151275873184204), ('elujanune', 0.7146353721618652), ('mehekeskne', 0.713774561882019), ('empaatiavõimeline', 0.7135987281799316), ('huumorimeelne', 0.7131618857383728), ('paljulugenud', 0.712714433670044)]]\n",
      "enesekindel [[('huumorimeelne', 0.7417100071907043), ('tahtejõuline', 0.7237849235534668), ('otsusekindel', 0.7194332480430603), ('sõnapidaja', 0.7067053318023682), ('tasakaalukas', 0.7033531069755554), ('iseteadev', 0.7027797102928162), ('taktitundeline', 0.6966668963432312), ('sõnakas', 0.6926777362823486), ('kaalutlev', 0.6920633316040039), ('võitlushimuline', 0.6908085346221924), ('edev', 0.6865863800048828), ('intelligentne', 0.6864632368087769), ('iseteadlik', 0.68619704246521), ('otsekohene', 0.6855171322822571), ('põhimõttekindel', 0.6852437257766724)]]\n",
      "otsustamisjulgus [[('enesekriitilisus', 0.7788811922073364), ('eesmärgikindlus', 0.7759016156196594), ('otsustusjulgus', 0.7741516828536987), ('kaalutletud', 0.7727735042572021), ('ettenägemisvõime', 0.7710068225860596), ('õppimistahe', 0.7634470462799072), ('printsipiaalsus', 0.7565165758132935), ('visionäärlus', 0.7550711631774902), ('üldistamisvõime', 0.7543500661849976), ('otsustamisvõime', 0.7528507709503174), ('initsiatiivik', 0.7513892650604248), ('ausameelsus', 0.7511268258094788), ('kompleksivabadus', 0.7511127591133118), ('teotahtelisus', 0.7492849826812744), ('suhtlemiskultuur', 0.749210000038147)]]\n",
      "loovus [[('loomingulisus', 0.7941327095031738), ('keskendumisoskus', 0.7293720245361328), ('analüüsioskus', 0.7286208271980286), ('loov', 0.7226525545120239), ('individuaalsus', 0.709757924079895), ('koostööoskus', 0.7072928547859192), ('enesetundmine', 0.7072333693504333), ('initsiatiivik', 0.7034205198287964), ('isiksuslik', 0.6997950077056885), ('õppimistahe', 0.6992030739784241), ('kuulamisoskus', 0.6984231472015381), ('sotsiaalpedagoogiline', 0.6973968744277954), ('intellekt', 0.6954885721206665), ('mõtteerksus', 0.6949732899665833), ('isemõtlemine', 0.6916662454605103)]]\n",
      "eneseteadvus [[('iseteadvus', 0.779202401638031), ('rahvustunne', 0.7369940280914307), ('identiteeditunne', 0.7137657403945923), ('eneseväärikus', 0.7137653231620789), ('kokkukuuluvustunne', 0.705079972743988), ('iseolemine', 0.7007426619529724), ('rahvusteadvus', 0.698649525642395), ('rahvusidentiteet', 0.6943543553352356), ('identiteet', 0.6897474527359009), ('eneseteadlikkus', 0.6882394552230835), ('enesetunnetus', 0.6840353012084961), ('eneseteadvustamine', 0.6785850524902344), ('kodanikutunne', 0.6758440136909485), ('ühismälu', 0.675136387348175), ('kultuuritase', 0.6701842546463013)]]\n",
      "kreatiivne [[('sünteesiv', 0.7624189853668213), ('indiviidikeskne', 0.7609556913375854), ('progressiusk', 0.7591091394424438), ('meediakeskne', 0.7577447295188904), ('vastumõtlemine', 0.7499553561210632), ('dekonstruktiivne', 0.7459468841552734), ('meelelahutuslikkus', 0.7453024387359619), ('iseväärtuslik', 0.7436791658401489), ('rütmipilt', 0.741802453994751), ('iseorganiseerumine', 0.7401556372642517), ('kogetav', 0.7391502857208252), ('kontemplatiivne', 0.7389081716537476), ('iseomane', 0.7377145290374756), ('rituaalsus', 0.7375693321228027), ('automatiseerumine', 0.7371377944946289)]]\n"
     ]
    }
   ],
   "source": [
    "for k,v in synonyymid_auton.items(): #tulemused ekraanile\n",
    "    print(k,v)"
   ]
  }
 ],
 "metadata": {
  "kernelspec": {
   "display_name": "Python 3",
   "language": "python",
   "name": "python3"
  },
  "language_info": {
   "codemirror_mode": {
    "name": "ipython",
    "version": 3
   },
   "file_extension": ".py",
   "mimetype": "text/x-python",
   "name": "python",
   "nbconvert_exporter": "python",
   "pygments_lexer": "ipython3",
   "version": "3.5.3"
  }
 },
 "nbformat": 4,
 "nbformat_minor": 2
}
