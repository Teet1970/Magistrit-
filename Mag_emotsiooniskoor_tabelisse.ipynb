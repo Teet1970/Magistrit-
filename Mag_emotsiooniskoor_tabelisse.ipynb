{
 "cells": [
  {
   "cell_type": "code",
   "execution_count": 1,
   "metadata": {},
   "outputs": [],
   "source": [
    "import re\n",
    "import json\n",
    "from collections import Counter\n",
    "from collections import defaultdict\n",
    "from estnltk import Text, Regex, Lemmas, Postags, Concatenation, Union, Gaps\n",
    "import codecs\n",
    "import csv\n",
    "from datetime import date\n",
    "import pandas as pd\n",
    "import numpy as np\n",
    "import matplotlib.pyplot as plt\n",
    "import seaborn as sns"
   ]
  },
  {
   "cell_type": "code",
   "execution_count": 2,
   "metadata": {},
   "outputs": [],
   "source": [
    "emo_uus = defaultdict(int)#Panen eestikeelsed sõnad sõnastikku, kus võtmeks sõna ja väärtuseks emotsioon\n",
    "with codecs.open('emotsionaalsus_sonastik_mod.csv',encoding = \"UTF-8\"  ) as csv_file:\n",
    "    rows = []    \n",
    "    reader = csv.reader(csv_file,delimiter =',')\n",
    "    header = next(reader)\n",
    "    for row in reader:\n",
    "        sona = re.findall('\\w\\D+', str(row[0]))#eemaldan osade sõnade ees olevad küsimärgid\n",
    "        sona_str =''.join(sona)#tagasi stringi kujule\n",
    "        emo_uus[sona_str] = row[1]#lisan sõnad sõnastikku"
   ]
  },
  {
   "cell_type": "code",
   "execution_count": 3,
   "metadata": {},
   "outputs": [],
   "source": [
    "trad = ['kuulekas','sõnakuulelik','töökas','ausus',\n",
    "         'püüdlik','sõnakuulekas','hoolas','distsiplineeritud','kuulekus',\n",
    "        'sõnakuulelikkus','austus', 'viisakus','töökus','püüdlikkus',\n",
    "        'korralikkus','usinus','distsipliin','enesedistsipliin', 'austama',\n",
    "        'vastutustunne','kohusetunne','kohusetundlik','austav','sõnakuulekus',\n",
    "        'lugupidav','respekteeriv','hästikasvatatud','sõnapidaja','sõnapidamine',\n",
    "        'kohusetruu','edasipüüdlikkus','korraarmastus','korraarmastaja',\n",
    "        'distsiplineeritus','õppimistahe'\n",
    "        ]"
   ]
  },
  {
   "cell_type": "code",
   "execution_count": 4,
   "metadata": {},
   "outputs": [],
   "source": [
    "trad1_konformism=['kuulekas','sõnakuulelik','sõnakuulekas','distsiplineeritud',\n",
    "                  'kuulekus','sõnakuulelikkus','austus','viisakus','korralikkus',\n",
    "                  'distsipliin','enesedistsipliin','austama','austav','sõnakuulekus',\n",
    "                  'lugupidav','respekteeriv','hästikasvatatud','korraarmastus',\n",
    "                  'korraarmastaja','distsiplineeritus',\n",
    "                  ]"
   ]
  },
  {
   "cell_type": "code",
   "execution_count": 5,
   "metadata": {},
   "outputs": [],
   "source": [
    "trad2_koh_heatahtlik=['töökas','püüdlik','hoolas','töökus','püüdlikkus','usinus','vastutustunne',\n",
    "                               'kohusetunne','kohusetundlik','kohusetruu','ausus','sõnapidaja',\n",
    "                               'sõnapidamine','abivalmis','andestav','lojaalne','isetu','altruistlik'\n",
    "                             ]"
   ]
  },
  {
   "cell_type": "code",
   "execution_count": 7,
   "metadata": {},
   "outputs": [],
   "source": [
    "autonoomia =['enesekindlus','eneseusaldus','loovus','uudishimulikkus','iseseisvus','ettevõtlikkus','eneseteadvus',\n",
    "          'eesmärgikindlus','visadus','järjekindlus','sihikindlus','sitkus','loomingulisus','enesekindel',\n",
    "          'loov','uudishimulik','iseseisev','ettevõtlik','eneseteadlik','sihiteadlik','järjekindel',\n",
    "          'sihikindel','teotahteline','tegus','algatusvõimeline','järjekindel','loominguline',\n",
    "          'ambitsioonikas', 'sihiteadlik','saavutusvajadus','algatusvõime','otsustamisjulgus',\n",
    "          'kreatiivne','kreatiivsus','teadmisjanuline','edasipüüdlik'\n",
    "         ]"
   ]
  },
  {
   "cell_type": "code",
   "execution_count": 8,
   "metadata": {},
   "outputs": [],
   "source": [
    "autonoomia_looming=['enesekindlus','eneseusaldus','loovus','uudishimulikkus','iseseisvus',\n",
    "                     'eneseteadvus','loomingulisus','enesekindel','loov','uudishimulik',\n",
    "                     'iseseisev','eneseteadlik','loominguline','otsustamisjulgus','kreatiivne',\n",
    "                     'kreatiivsus','teadmisjanuline','õppimistahe','sõltumatus','eneseaustus'\n",
    "                    ]"
   ]
  },
  {
   "cell_type": "code",
   "execution_count": 9,
   "metadata": {},
   "outputs": [],
   "source": [
    "autonoomia_saavutamine =['ettevõtlikkus','eesmärgikindlus','visadus','järjekindlus','sihikindlus',\n",
    "                      'sitkus','ettevõtlik','sihiteadlik','järjekindel','sihikindel','teotahteline',\n",
    "                      'tegus','algatusvõimeline','järjekindel','ambitsioonikas','sihiteadlik',\n",
    "                      'saavutusvajadus','algatusvõime','edasipüüdlik','edasipüüdlikkus','eneseteostus'\n",
    "                     ]"
   ]
  },
  {
   "cell_type": "code",
   "execution_count": 10,
   "metadata": {},
   "outputs": [],
   "source": [
    "#loome grammatika jaoks nö ehitusklotsid\n",
    "eitus_pos = Lemmas('ei', 'ega')\n",
    "eitus = Lemmas('ei')\n",
    "space = Regex('\\s')\n",
    "tegusona =Postags('V')\n",
    "pole = Regex('pole')\n",
    "polnud = Regex('polnud')"
   ]
  },
  {
   "cell_type": "code",
   "execution_count": 11,
   "metadata": {},
   "outputs": [],
   "source": [
    "#grammatika eitusega positiivsete ja neutraalsete tegusõnade jaoks\n",
    "pos_tegusonad = Lemmas('looma', 'lootma','lubama','lõhnama','meeldima',\n",
    "                       'mõistma','naeratama','nautima','nõustuma','sobima',\n",
    "                       'aitama','arenema','edenema','huvitama','julgema','kaitsma',\n",
    "                       'kallistama','kindlustama','kasvama','kiitma','kinkima',\n",
    "                       'lahendama','oskama','saavutama','armastama','armuma','arutlema',\n",
    "                       'austama','hoolitsema','imetlema','jalutama','kasvama','parandama',\n",
    "                       'paranema','puhkama','pääsema','päästma','rahuldama','rahustama',\n",
    "                       'ravima','rõõmustama','taastama','tantsima','tervitama','toetama',\n",
    "                       'tohtima','tugevdama','tunnustama','tähistama','tänama','unistama',\n",
    "                       'usaldama','vabanema','vabastama','võitma','väärima','õitsema','õnnestuma',\n",
    "                       'õnnitlema','üllatuma')\n",
    "pole_tegusona =Concatenation(pole,tegusona, sep = space)\n",
    "eitus_tegusona =Concatenation(eitus_pos,tegusona, sep = space)\n",
    "pole_pos_tegusona =Concatenation(pole,pos_tegusonad, sep = space)\n",
    "eitus_pos_tegusona = Concatenation(eitus_pos,pos_tegusonad, sep = space)\n",
    "eitus_neutr_tegusona = Gaps(Union(pole_tegusona,eitus_tegusona, sep = space))\n",
    "neg_pos_tegusona = Gaps(Union(pole_pos_tegusona,eitus_pos_tegusona, sep = space))"
   ]
  },
  {
   "cell_type": "code",
   "execution_count": 12,
   "metadata": {},
   "outputs": [],
   "source": [
    "#grammatika eitusega negatiivsete tegusõnade jaoks\n",
    "neg_tegusonad = Lemmas('matma','muretsema','mürgitama','nutma','ohustama',\n",
    "                        'oksendama','nutma','lööma','peksma','närveerima',\n",
    "                        'pahandama', 'petma','purunema','puuduma','põgenema',\n",
    "                        'raiskama','rikkuma','riskima','röövima','ründama',\n",
    "                        'segama','solvuma','suitsetama','sundima','surema',\n",
    "                        'suruma', 'suudlema','sõdima','süüdistama','takistama',\n",
    "                        'tapma','trügima','tulistama','tungima','tühistama',\n",
    "                        'tülitama','tülitsema','unustama','vaidlema','valetama',\n",
    "                        'vallandama','valutama','varastama','vigastama','vihkama',\n",
    "                        'võitlema','väsima','ähvardama','kaotama','vahistama',\n",
    "                        'kulutama','purustama','kuluma','liialdama','rõhuma',\n",
    "                        'hävitama','õõnestama','politiseerima','ununema',\n",
    "                        'ahistama','ärrituma','ärandama','karmistama',\n",
    "                        'küüditama','vägistama','laimama','ehmatama','eitama',\n",
    "                        'eksima','haisema','halvenema','hilinema','hirmutama',\n",
    "                        'hukkuma','hõivama','häbenema','häirima','hämmastama',\n",
    "                        'hävima','hävitama','iiveldama','kaebama','kahetsema',\n",
    "                        'kahjustama','kahtlema','kannatama','kaotama','karistama',\n",
    "                        'karjuma','kartma','katkestama','kaugenema','keelama',\n",
    "                        'keelduma','kihutama','kiirustama','kritiseerima','kukkuma',\n",
    "                        'kurtma','kurvastama','kärpima','käskima','köhima','lagunema',\n",
    "                        'lahutama','lammutama','loobuma','loovutama','lõhkuma')\n",
    "\n",
    "pole_neg_tegusona = Concatenation(pole,neg_tegusonad, sep = space)\n",
    "eitus_neg_tegusona = Concatenation(eitus,neg_tegusonad, sep = space)\n",
    "neg_neg_tegusona=Gaps(Union(pole_neg_tegusona,eitus_neg_tegusona))"
   ]
  },
  {
   "cell_type": "code",
   "execution_count": 13,
   "metadata": {},
   "outputs": [],
   "source": [
    "#grammatika ksvatusväärtuste jaoks\n",
    "nimisonad = Lemmas('käitumine', 'laps','õpilane', 'koolilaps','poiss',\n",
    "                   'tüdruk','komme','kasvatus','kasvatamine')\n",
    "olema = Lemmas('olema')\n",
    "omadussonad_konformism =Lemmas('viisakas','korralik')\n",
    "omadussonad_heatahtlik =Lemmas('aus') \n",
    "verb2 =Lemmas('kuulama')\n",
    "verb4 =Lemmas('täitma')\n",
    "nimisona2=Lemmas('sõna')\n",
    "nimisona5=Lemmas('kohustus')\n",
    "nimisona6=Lemmas('käsk')\n",
    "viisakas_korralik_nimisonad=Concatenation(omadussonad_konformism,nimisonad, sep = space)\n",
    "aus_nimisonad=Concatenation(omadussonad_heatahtlik,nimisonad, sep = space)\n",
    "kuulama_sona = Concatenation(verb2, nimisona2, sep = space)\n",
    "sona_kuulama =Concatenation(nimisona2, verb2, sep = space)\n",
    "kohustus_taitma =Concatenation(nimisona5,verb4, sep = space)\n",
    "kask_taitma =Concatenation(nimisona6,verb4, sep = space)\n",
    "trad_konformism = Gaps(Union(kuulama_sona, sona_kuulama,kohustus_taitma,kask_taitma,viisakas_korralik_nimisonad ))\n",
    "trad_heatahtlik = Gaps(aus_nimisonad)"
   ]
  },
  {
   "cell_type": "code",
   "execution_count": 14,
   "metadata": {},
   "outputs": [],
   "source": [
    "puhas_jarjend =[] #loeme sisse andmed\n",
    "with open('loplikult_puhastatud3.json') as f:\n",
    "    for line in f:        \n",
    "        uus_rida = json.loads(line)  \n",
    "        puhas_jarjend.append(uus_rida)"
   ]
  },
  {
   "cell_type": "code",
   "execution_count": 16,
   "metadata": {},
   "outputs": [
    {
     "name": "stdout",
     "output_type": "stream",
     "text": [
      "[1, '80353', 'Teismeliste käitumine.', '378813', '29.08.2013 16:56', 'Minu esimene mõte oli ka, et kas see teismeline ikka üldse märkas sind? Ma olen ise seda tüüpi, kes avalikes ja rahvarikastes kohtades on nii oma mullis, et kui just otsa ei kõnni, siis võin klaasistunud pilgul ka väga heast ja kallist tuttavast 20 cm kauguselt mööda kõndida ja teda mitte märgata. Ja nii jääbki tere ütlemata ning viisakuse puudumisega pole asjal mingit pistmist. ']\n",
      "[2, '12554', 'Kuidas karistada kui 2kl. laps ei pane õppimisi kirja?', '361370', '13.03.2012 16:46', 'meile tegi õpetaja selgeks, et järgmise päeva õppimise ülesanded on lapsel kohustus kirjutada päevikusse, tema e-kooli ei kirjuta detailselt järgmise päeva õppimist ja mõned asjad võivad ilmuda tagantjärele. Esmalt peaksin mina lapsega maha tõsise vestluse, kus ta peaks ise analüüsima olukroda, siis las kirjeldab, mida ta tahab/ mis on tema jaoks oluline( sain aru, et hinded ei jäta teda ükskõikseks, sealt ka hoolsus ja tema kui õpilase maine õpetajate silmis, mis teda saadab tegelikult ka järgmistesse põhikooli astemtesse). Siis võiksid sina emana oma ootusi temale edastada, missuguseid omadusi sina tahaksid temas kui heas õpilases ja oma lapses näha. Sõlmige kokkulepe lühiajaliseks prooviperioodiks: nädal aega võetud kohustus täita päevik kohusetundlikult ja täpselt (kui ei saa tahvlile kirjutatust aru, siis võtab kohustuse õpetajalt üle küsida jne), las täidab ka kehalise lahtri: dressid kaasa vms. Tehke peale nädalat kokkuvõte ja võid kasvõi motiveerida teda mingi välise motivaatoriga või saab suulise kiituse/ laituse. Edasi juba piekndage perioodi ja võtke kirjutamise mahtu vähemaks nende tundide arvelt, milles õppida ei anta ja teate niigi, et kunstis on värve ja paberit vaja ja kehalises dresse/tosse. Keskendub vaid põhiainetele. Sellist vastutust peab laps õppima, kui iseeneslikult sisse ei ole harjunud, sina emana pead teda toetama selle oskuse arendamisel, mitte unustades ka positiivset tagasisidet. Lapsi kannustab väga positiivne tagasiside ja edukogemus.']\n",
      "[3, '2341221', '3. kl poisil on koolis igav', '372159', '08.09.2016 22:38', 'Ma ei ole mõelnud kordagi, et ta peaks kuidagi järgmisse klassi minema, ei-ei. Meil pole kuskile kiiret:)Ta teeb asjad ära kiirelt ja õigesti, ta ei kurda nende asjade üle, mida ta tegema on pidanud. Mates on tal alati lisaülesanded, muudes asjades ma ei teagi. Kodus ei jookse me tema sõrmenipsu ja igav olemise peale mitte kuhugi poole, pigem õpetame tal ISE igavusega hakkama saama. Olen ise ka tegelt õpetaja ja tean väga hästi, et selles vanuses laste jutt võib kohati olla “tule-eile-meile”, lihtsalt oma lapsega jäin teemat tehes mõttesse…et kui tal tõesti on igav koolis, mida mina tegema peaksin, teha saaksin? Usaldan oma lapse õpetajat, sest ta on range, aga samas sõbralik ja lapsele ta meeldib. Tal on tunnis kord, lapsed austavad ning armastavad. Praegu lasen veel ja ajal lihtsalt voolata, aga ikkagi…']\n"
     ]
    }
   ],
   "source": [
    "for test in puhas_jarjend[:3]:#testime sisseloetud andmeid\n",
    "    print(test) "
   ]
  },
  {
   "cell_type": "code",
   "execution_count": 17,
   "metadata": {},
   "outputs": [],
   "source": [
    "koik_andmed = []#arvutame ekotsiooniskoorid ja liidame kokku kasvatusväärtused\n",
    "def andmed_dataframe(rida):\n",
    "    tabelisse_andmed =[]    \n",
    "    trad_vaartused = trad1_loe = trad2_loe  =0\n",
    "    auton_vaartused = auton1_loe = auton2_loe = 0\n",
    "    pos_emotik_arv = neg_emotik_arv =0\n",
    "    pos_neg_loe = float(0)\n",
    "    trad1_skoor = trad2_skoor= auton1_skoor= auton2_skoor= 0\n",
    "    emo_sonad_arv = 0\n",
    "    pos_emotikon1 = ':)'#leiame tekstist emotikonid, mis on tühikutega eraldamata\n",
    "    pos_emotikon2 = ';)'\n",
    "    pos_emotikon3 = ':-)'\n",
    "    neg_emotikon1 = ':('\n",
    "    kuupaev=rida[4]\n",
    "    teksti_id =rida[0]\n",
    "    teema_id = rida[1]\n",
    "    teema =rida[2]\n",
    "    autor =rida[3]\n",
    "    tekst =rida[5]\n",
    "    myre_positiivsed = re.compile(u'['#positiivsed emotikonid ehk tujukujud\n",
    "     u'\\U0001F642'\n",
    "     u'\\U0001F604'\n",
    "     u'\\U0001F60A'\n",
    "     u'\\U0001F61B'\n",
    "     u'\\U0001F609'\n",
    "     u'\\U0001F600]+', \n",
    "     re.UNICODE)\n",
    "    myre_negatiivsed = re.compile(u'['#negatiivne tujukuju\n",
    "     u'\\U0001F641]+', \n",
    "     re.UNICODE)\n",
    "    tulemus =re.findall(myre_positiivsed, tekst)#leiame positiivsed tujukujud\n",
    "    pos_emotik_arv = len(tulemus)\n",
    "    pos_neg_loe += pos_emotik_arv\n",
    "    tulemus2 =re.findall(myre_negatiivsed, tekst)#leiame negatiivsed tujukujud\n",
    "    neg_emotik_arv = len(tulemus2)\n",
    "    pos_neg_loe -= neg_emotik_arv\n",
    "    tund = ' '.join(map(str,re.findall(r'\\s\\d+',kuupaev)))#leiame tunni\n",
    "    aasta = ' '.join(map(str,re.findall(r'\\d{4}',kuupaev)))#võtan kuupäevast välja aasta\n",
    "    kuupaev_kellata = ' '.join(map(str,re.findall(r'\\d{2}\\.\\d{2}\\.\\d{4}',kuupaev)))\n",
    "    paev, kuu, aasta = (int(x) for x in kuupaev_kellata.split('.'))    \n",
    "    date_kuupaev = date(aasta, kuu, paev)#teeme kuupäeva date formaati\n",
    "    nadalapaev = date_kuupaev.strftime(\"%A\")#leiame nädalapäeva\n",
    "    sonade_arv = len(tekst.split())\n",
    "    tekst = Text(tekst)\n",
    "    for lause in tekst.split_by('sentences'):#teen teksid lauseteks, määran keele\n",
    "        puhas_lause = lause['text']\n",
    "        lemmad =Text(lause).lemmas\n",
    "        for j in range(len(lause.words)):#käin laused üle sõnakaupa, et vaadata, kas on \n",
    "            word1 =lause['words'][j]#olemas vaste emotsioonisõnastikus\n",
    "            sona =word1['text'].lower()\n",
    "            if pos_emotikon1 in sona or pos_emotikon2 in sona or pos_emotikon3 in sona:\n",
    "                pos_neg_loe +=1\n",
    "                pos_emotik_arv +=1\n",
    "                emo_sonad_arv +=1\n",
    "            if neg_emotikon1 in sona:\n",
    "                pos_neg_loe -=1\n",
    "                neg_emotik_arv -=1\n",
    "                emo_sonad_arv +=1\n",
    "            if sona in emo_uus:#kui sõna on emotsioonisõnastikus, siis liidan või lahutan skoorile sõnastikus oleva väärtuse\n",
    "                for k,v in emo_uus.items():\n",
    "                    if k ==sona:\n",
    "                        pos_neg_loe += int(v)\n",
    "                        emo_sonad_arv +=1\n",
    "        for j in range(len(lemmad)):#käin laused üle sõnakaupa\n",
    "            sona =lemmad[j]\n",
    "            if '|'in sona:#kui lemma jääb mitmeseks, siis lisame nimekirja esimesel kohal oleva sõnakuju\n",
    "                nimekiri = list((sona).split('|'))                \n",
    "                for sona in nimekiri:\n",
    "                    if sona in trad1_konformism:#loeme kasvatusväärtusi                       \n",
    "                        trad1_loe +=1 \n",
    "                    if sona in trad2_koh_heatahtlik:                        \n",
    "                        trad2_loe +=1                         \n",
    "                    if sona in autonoomia_looming:\n",
    "                        auton1_loe +=1    \n",
    "                    if sona in autonoomia_saavutamine:\n",
    "                        auton2_loe +=1                    \n",
    "            else:\n",
    "                if sona in trad1_konformism:#loeme kasvatusväärtusi                        \n",
    "                    trad1_loe +=1 \n",
    "                if sona in trad2_koh_heatahtlik:                        \n",
    "                    trad2_loe +=1                         \n",
    "                if sona in autonoomia_looming:\n",
    "                    auton1_loe +=1    \n",
    "                if sona in autonoomia_saavutamine:\n",
    "                    auton2_loe +=1\n",
    "        for match in trad_konformism.get_matches(lause):#grammatikaga kasvatusväärtuste lugemine\n",
    "            trad1_loe +=1\n",
    "        for match in trad_heatahtlik.get_matches(lause):\n",
    "            trad2_loe +=1\n",
    "        for match in neg_neg_tegusona.get_matches(lause):#grammatikaga emotsioonisõnade lugemine\n",
    "            pos_neg_loe +=2.5\n",
    "            emo_sonad_arv +=1\n",
    "        for match in neg_pos_tegusona.get_matches(lause):\n",
    "            pos_neg_loe -=1\n",
    "            emo_sonad_arv +=1\n",
    "        for match in eitus_neutr_tegusona.get_matches(lause):\n",
    "            pos_neg_loe -=0.5\n",
    "            emo_sonad_arv +=1\n",
    "    trad_vaartused= trad1_loe + trad2_loe\n",
    "    auton_vaartused =auton1_loe + auton2_loe\n",
    "    tulemus = auton_vaartused - trad_vaartused\n",
    "    if tulemus >=2:#jagame andmed väärtusjaotuse järgi\n",
    "        vaartusjaotus = 'Autonoomsed 2+'\n",
    "    elif tulemus >0 and tulemus <2:\n",
    "        vaartusjaotus = 'Autonoomsed'\n",
    "    elif tulemus ==0:\n",
    "        vaartusjaotus = 'Võrdne'\n",
    "    elif tulemus <0 and tulemus >-2:\n",
    "        vaartusjaotus = 'Traditsioonilised'\n",
    "    elif tulemus <=-2:\n",
    "        vaartusjaotus = 'Traditsioonilised 2+'\n",
    "    kaalutud_emotsioon =pos_neg_loe/sonade_arv\n",
    "    if int(tund) >= 0 and int(tund) < 9: #jagame postitused kellaaja järgi kolmeks\n",
    "        postitus_aeg_agr ='Öö'\n",
    "    elif int(tund) >= 9 and int(tund) < 17:\n",
    "        postitus_aeg_agr ='Päev'\n",
    "    elif int(tund) >= 17 and int(tund) < 24:\n",
    "        postitus_aeg_agr ='Õhtu'\n",
    "    tabelisse_andmed = [teksti_id,aasta,teema_id,autor, \n",
    "                        trad1_loe,trad2_loe,trad_vaartused,\n",
    "                        auton1_loe,auton2_loe,auton_vaartused,\n",
    "                        tulemus, pos_neg_loe,vaartusjaotus,\n",
    "                        pos_emotik_arv,neg_emotik_arv, kaalutud_emotsioon,\n",
    "                        sonade_arv, emo_sonad_arv,tund,\n",
    "                        nadalapaev, postitus_aeg_agr]\n",
    "    return tabelisse_andmed\n",
    "for rida in puhas_jarjend:#loeme andmed sisse\n",
    "    andmed = andmed_dataframe(rida)#kasutame funktsiooni \n",
    "    koik_andmed += [andmed]#liidame andmed järjendisse    "
   ]
  },
  {
   "cell_type": "code",
   "execution_count": 37,
   "metadata": {},
   "outputs": [
    {
     "name": "stdout",
     "output_type": "stream",
     "text": [
      "[1, 2013, '80353', '378813', 1, 0, 1, 0, 0, 0, -1, -1.5, 'Traditsioonilised', 0, 0, -0.0234375, 64, 4, ' 16', 'Thursday', 'Päev']\n",
      "[2, 2012, '12554', '361370', 1, 0, 1, 0, 0, 0, -1, -0.5, 'Traditsioonilised', 0, 0, -0.0023584905660377358, 212, 19, ' 16', 'Tuesday', 'Päev']\n",
      "[3, 2016, '2341221', '372159', 1, 0, 1, 0, 0, 0, -1, 2.5, 'Traditsioonilised', 1, 0, 0.018796992481203006, 133, 19, ' 22', 'Thursday', 'Õhtu']\n",
      "[4, 2012, '41359', '372464', 0, 1, 1, 0, 0, 0, -1, -0.5, 'Traditsioonilised', 0, 0, -0.008333333333333333, 60, 14, ' 09', 'Saturday', 'Päev']\n",
      "[5, 2013, '60866', '364383', 0, 0, 0, 1, 0, 1, 1, 0.5, 'Autonoomsed', 0, 0, 0.005208333333333333, 96, 15, ' 15', 'Tuesday', 'Päev']\n"
     ]
    }
   ],
   "source": [
    "for rida in koik_andmed[:5]:#testime andmeid\n",
    "    print(rida)"
   ]
  },
  {
   "cell_type": "code",
   "execution_count": 36,
   "metadata": {},
   "outputs": [],
   "source": [
    "with open('andmed_tabelisse.json', 'w') as fout:#kirjutame \n",
    "    for rida in koik_andmed: #andmed faili\n",
    "        json.dump(rida,fout)\n",
    "        fout.write('\\n')"
   ]
  }
 ],
 "metadata": {
  "kernelspec": {
   "display_name": "Python 3",
   "language": "python",
   "name": "python3"
  },
  "language_info": {
   "codemirror_mode": {
    "name": "ipython",
    "version": 3
   },
   "file_extension": ".py",
   "mimetype": "text/x-python",
   "name": "python",
   "nbconvert_exporter": "python",
   "pygments_lexer": "ipython3",
   "version": "3.5.3"
  }
 },
 "nbformat": 4,
 "nbformat_minor": 2
}
